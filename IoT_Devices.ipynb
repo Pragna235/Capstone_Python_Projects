{
  "nbformat": 4,
  "nbformat_minor": 0,
  "metadata": {
    "colab": {
      "provenance": [],
      "collapsed_sections": [],
      "include_colab_link": true
    },
    "kernelspec": {
      "name": "python3",
      "display_name": "Python 3"
    }
  },
  "cells": [
    {
      "cell_type": "markdown",
      "metadata": {
        "id": "view-in-github",
        "colab_type": "text"
      },
      "source": [
        "<a href=\"https://colab.research.google.com/github/Pragna235/Capstone_Python_Projects/blob/main/IoT_Devices.ipynb\" target=\"_parent\"><img src=\"https://colab.research.google.com/assets/colab-badge.svg\" alt=\"Open In Colab\"/></a>"
      ]
    },
    {
      "cell_type": "markdown",
      "metadata": {
        "id": "OocTROo-irrt"
      },
      "source": [
        "# Capstone Project 11: IoT Devices - Time Series Plots\n"
      ]
    },
    {
      "cell_type": "markdown",
      "metadata": {
        "id": "S0xajJgpY7jg"
      },
      "source": [
        "---"
      ]
    },
    {
      "cell_type": "markdown",
      "metadata": {
        "id": "gVS1MXHMZAbM"
      },
      "source": [
        "## Instructions"
      ]
    },
    {
      "cell_type": "markdown",
      "metadata": {
        "id": "JgXbJ-HoZCdZ"
      },
      "source": [
        "### Goal of the Project:\n",
        "\n",
        "This project is designed for you to practice and solve the activities that are based on the following concepts covered in classes 38 - 43:\n",
        "\n",
        " - The `datetime` module\n",
        " - Data Cleaning\n",
        " - Grouping and Aggregation\n",
        " - Customised `matplotlib` plots\n",
        " - Bivariate Bar Plots"
      ]
    },
    {
      "cell_type": "markdown",
      "metadata": {
        "id": "WDXMriICY8LS"
      },
      "source": [
        "---"
      ]
    },
    {
      "cell_type": "markdown",
      "metadata": {
        "id": "wOmN35jdQO68"
      },
      "source": [
        "### Context\n",
        "\n",
        "The **Internet of things (IoT)** describes the network of physical objects that are embedded with sensors, software, and other technologies to connect and exchange data with other devices and systems over the **Internet**. \n",
        " \n",
        "IoT devices have been around for quite a while now. They are used to collect data through different kinds of sensors such as **motion sensors**, **heat sensors**, **vibration sensors**, etc.\n",
        "\n",
        "A lot of people are using smartwatches and fitness watches to track their daily physical activities, calories burnt, average resting heart rates, and sleep cycle so that they lead a fit life. Such wearables are equipped with laser sensors to collect data.\n",
        "\n",
        "Heat Index (temperature + humidity) is one common data recorded on these IoT readers. The sensor reads hundreds to millions of data per second. There is a huge and versatile application of this data in real-world like agriculture, weather forecasting, soil monitoring and treatment, enterprise maintenance, and so on.\n",
        "\n",
        "Heat stress index of India:\n",
        "\n",
        "<img src='https://student-datasets-bucket.s3.ap-south-1.amazonaws.com/images/heat_index_india.png' width=600>\n"
      ]
    },
    {
      "cell_type": "markdown",
      "metadata": {
        "id": "DiBKzIYpWCzp"
      },
      "source": [
        "---"
      ]
    },
    {
      "cell_type": "markdown",
      "metadata": {
        "id": "zTSyVg4PqLI3"
      },
      "source": [
        "### Problem Statement\n",
        "\n",
        "Put yourself in the shoes of a quality analyst whose task is to test the efficacy of new IoT devices. You need to create time-series plots for daily temperature variation for the given duration and find any inconsistencies in the temperature readings (if there are any). \n",
        "\n",
        "In case the data collected through the device is correct, find the percentages of the yellow, orange, and red zones. "
      ]
    },
    {
      "cell_type": "markdown",
      "metadata": {
        "id": "5AyRRYmTR3N7"
      },
      "source": [
        "---"
      ]
    },
    {
      "cell_type": "markdown",
      "metadata": {
        "id": "M23b90ugS97j"
      },
      "source": [
        "#### Getting Started\n",
        "\n",
        "Follow the steps described below to solve the project:\n",
        "\n",
        "1. Click on the link provided below to open the Colab file for this project.\n",
        "   \n",
        "   https://colab.research.google.com/drive/1xVYKfq2My4TWhFGdHv0LLsJzfn8wZOoJ\n",
        "   \n",
        "2. Create the duplicate copy of the Colab file. Here are the steps to create the duplicate copy:\n",
        "\n",
        "    - Click on the **File** menu. A new drop-down list will appear.\n",
        "\n",
        "      <img src='https://student-datasets-bucket.s3.ap-south-1.amazonaws.com/images/project-share-images/0_file_menu.png' width=500>\n",
        "\n",
        "    - Click on the **Save a copy in Drive** option. A duplicate copy will get created. It will open up in the new tab on your web browser.\n",
        "\n",
        "      <img src='https://student-datasets-bucket.s3.ap-south-1.amazonaws.com/images/project-share-images/1_create_colab_duplicate_copy.png' width=500>\n",
        "\n",
        "     - After creating the duplicate copy of the notebook, please rename it in the **YYYY-MM-DD_StudentName_CapstoneProject11** format. \n",
        "\n",
        "3. Now, write your code in the prescribed code cells."
      ]
    },
    {
      "cell_type": "markdown",
      "metadata": {
        "id": "ifwfy6pBS8ke"
      },
      "source": [
        "---"
      ]
    },
    {
      "cell_type": "markdown",
      "metadata": {
        "id": "OvuklseNQkid"
      },
      "source": [
        "### Dataset Information\n",
        "\n",
        "This dataset contains the temperature readings from an IoT device installed outside and inside of an anonymous room (labelled as admin room) to test the device. The readings were taken between 11 January 2018 and 10 December 2018. Additionally, it was uninstalled or taken down quite frequently during the entire reading period. \n",
        "\n",
        "There are 5 columns and 97,605 rows in the dataset. The columns are as follows:\n",
        "\n",
        "1. `id` - Unique IDs for each reading.\n",
        "\n",
        "2. `room_id/id` - Room id in which device was installed (inside and/or outside). In this dataset, only `Room Admin` label is used as a `room_id` for example purpose.\n",
        "\n",
        "3. `noted_date` - Date and time of reading.\n",
        "\n",
        "4. `temp` - Temperature readings.\n",
        "\n",
        "5. `out/in` - Whether the reading was taken from a device installed inside or outside of the room?\n",
        "\n",
        "Here's the dataset link:\n",
        "\n",
        "https://student-datasets-bucket.s3.ap-south-1.amazonaws.com/whitehat-ds-datasets/iot-devices/IoT-device.csv"
      ]
    },
    {
      "cell_type": "markdown",
      "metadata": {
        "id": "wmta0mCwWB0e"
      },
      "source": [
        "---"
      ]
    },
    {
      "cell_type": "markdown",
      "metadata": {
        "id": "Djd0X9oJQogj"
      },
      "source": [
        "### Things To Do\n",
        "\n",
        "- What is the trend in the variation in daily indoor and outdoor temperatures?\n",
        "\n",
        "- What is the trend in the variation in monthly median indoor and outdoor temperatures?\n",
        "\n",
        "- Find out the hottest and coldest month(s).\n",
        "\n",
        "- Find the maximum and minimum temperatures recorded for each month."
      ]
    },
    {
      "cell_type": "markdown",
      "metadata": {
        "id": "1_0f8iFLVzir"
      },
      "source": [
        "---"
      ]
    },
    {
      "cell_type": "markdown",
      "metadata": {
        "id": "vqCHyy1ge9PP"
      },
      "source": [
        "## Specific Tasks to Achieve the Main Goal:"
      ]
    },
    {
      "cell_type": "markdown",
      "metadata": {
        "id": "bQT8lQviaQwX"
      },
      "source": [
        "#### 1. Import Modules and Load Dataset"
      ]
    },
    {
      "cell_type": "code",
      "metadata": {
        "id": "Y62VnVV3SjwN",
        "colab": {
          "base_uri": "https://localhost:8080/",
          "height": 419
        },
        "outputId": "6f96f0cc-a4cb-476a-f905-02eb3447dd16"
      },
      "source": [
        "# Import the required modules and load the dataset.\n",
        "import numpy as np\n",
        "import pandas as pd\n",
        "import matplotlib.pyplot as plt\n",
        "import seaborn as sns\n",
        "\n",
        "import warnings\n",
        "warnings.filterwarnings('ignore')\n",
        "# Dataset link = 'https://student-datasets-bucket.s3.ap-south-1.amazonaws.com/whitehat-ds-datasets/iot-devices/IoT-device.csv'\n",
        "df=pd.read_csv(\"https://student-datasets-bucket.s3.ap-south-1.amazonaws.com/whitehat-ds-datasets/iot-devices/IoT-device.csv\")\n",
        "df"
      ],
      "execution_count": null,
      "outputs": [
        {
          "output_type": "execute_result",
          "data": {
            "text/html": [
              "<div>\n",
              "<style scoped>\n",
              "    .dataframe tbody tr th:only-of-type {\n",
              "        vertical-align: middle;\n",
              "    }\n",
              "\n",
              "    .dataframe tbody tr th {\n",
              "        vertical-align: top;\n",
              "    }\n",
              "\n",
              "    .dataframe thead th {\n",
              "        text-align: right;\n",
              "    }\n",
              "</style>\n",
              "<table border=\"1\" class=\"dataframe\">\n",
              "  <thead>\n",
              "    <tr style=\"text-align: right;\">\n",
              "      <th></th>\n",
              "      <th>id</th>\n",
              "      <th>room_id/id</th>\n",
              "      <th>noted_date</th>\n",
              "      <th>temp</th>\n",
              "      <th>out/in</th>\n",
              "    </tr>\n",
              "  </thead>\n",
              "  <tbody>\n",
              "    <tr>\n",
              "      <th>0</th>\n",
              "      <td>__export__.temp_log_196134_bd201015</td>\n",
              "      <td>Room Admin</td>\n",
              "      <td>08-12-2018 09:30</td>\n",
              "      <td>29</td>\n",
              "      <td>In</td>\n",
              "    </tr>\n",
              "    <tr>\n",
              "      <th>1</th>\n",
              "      <td>__export__.temp_log_196131_7bca51bc</td>\n",
              "      <td>Room Admin</td>\n",
              "      <td>08-12-2018 09:30</td>\n",
              "      <td>29</td>\n",
              "      <td>In</td>\n",
              "    </tr>\n",
              "    <tr>\n",
              "      <th>2</th>\n",
              "      <td>__export__.temp_log_196127_522915e3</td>\n",
              "      <td>Room Admin</td>\n",
              "      <td>08-12-2018 09:29</td>\n",
              "      <td>41</td>\n",
              "      <td>Out</td>\n",
              "    </tr>\n",
              "    <tr>\n",
              "      <th>3</th>\n",
              "      <td>__export__.temp_log_196128_be0919cf</td>\n",
              "      <td>Room Admin</td>\n",
              "      <td>08-12-2018 09:29</td>\n",
              "      <td>41</td>\n",
              "      <td>Out</td>\n",
              "    </tr>\n",
              "    <tr>\n",
              "      <th>4</th>\n",
              "      <td>__export__.temp_log_196126_d30b72fb</td>\n",
              "      <td>Room Admin</td>\n",
              "      <td>08-12-2018 09:29</td>\n",
              "      <td>31</td>\n",
              "      <td>In</td>\n",
              "    </tr>\n",
              "    <tr>\n",
              "      <th>...</th>\n",
              "      <td>...</td>\n",
              "      <td>...</td>\n",
              "      <td>...</td>\n",
              "      <td>...</td>\n",
              "      <td>...</td>\n",
              "    </tr>\n",
              "    <tr>\n",
              "      <th>97601</th>\n",
              "      <td>__export__.temp_log_91076_7fbd08ca</td>\n",
              "      <td>Room Admin</td>\n",
              "      <td>28-07-2018 07:07</td>\n",
              "      <td>31</td>\n",
              "      <td>In</td>\n",
              "    </tr>\n",
              "    <tr>\n",
              "      <th>97602</th>\n",
              "      <td>__export__.temp_log_147733_62c03f31</td>\n",
              "      <td>Room Admin</td>\n",
              "      <td>28-07-2018 07:07</td>\n",
              "      <td>31</td>\n",
              "      <td>In</td>\n",
              "    </tr>\n",
              "    <tr>\n",
              "      <th>97603</th>\n",
              "      <td>__export__.temp_log_100386_84093a68</td>\n",
              "      <td>Room Admin</td>\n",
              "      <td>28-07-2018 07:06</td>\n",
              "      <td>31</td>\n",
              "      <td>In</td>\n",
              "    </tr>\n",
              "    <tr>\n",
              "      <th>97604</th>\n",
              "      <td>__export__.temp_log_123297_4d8e690b</td>\n",
              "      <td>Room Admin</td>\n",
              "      <td>28-07-2018 07:06</td>\n",
              "      <td>31</td>\n",
              "      <td>In</td>\n",
              "    </tr>\n",
              "    <tr>\n",
              "      <th>97605</th>\n",
              "      <td>__export__.temp_log_133741_32958703</td>\n",
              "      <td>Room Admin</td>\n",
              "      <td>28-07-2018 07:06</td>\n",
              "      <td>31</td>\n",
              "      <td>In</td>\n",
              "    </tr>\n",
              "  </tbody>\n",
              "</table>\n",
              "<p>97606 rows × 5 columns</p>\n",
              "</div>"
            ],
            "text/plain": [
              "                                        id  room_id/id  ... temp  out/in\n",
              "0      __export__.temp_log_196134_bd201015  Room Admin  ...   29      In\n",
              "1      __export__.temp_log_196131_7bca51bc  Room Admin  ...   29      In\n",
              "2      __export__.temp_log_196127_522915e3  Room Admin  ...   41     Out\n",
              "3      __export__.temp_log_196128_be0919cf  Room Admin  ...   41     Out\n",
              "4      __export__.temp_log_196126_d30b72fb  Room Admin  ...   31      In\n",
              "...                                    ...         ...  ...  ...     ...\n",
              "97601   __export__.temp_log_91076_7fbd08ca  Room Admin  ...   31      In\n",
              "97602  __export__.temp_log_147733_62c03f31  Room Admin  ...   31      In\n",
              "97603  __export__.temp_log_100386_84093a68  Room Admin  ...   31      In\n",
              "97604  __export__.temp_log_123297_4d8e690b  Room Admin  ...   31      In\n",
              "97605  __export__.temp_log_133741_32958703  Room Admin  ...   31      In\n",
              "\n",
              "[97606 rows x 5 columns]"
            ]
          },
          "metadata": {
            "tags": []
          },
          "execution_count": 34
        }
      ]
    },
    {
      "cell_type": "code",
      "metadata": {
        "id": "2eDUrqpvTIZv",
        "colab": {
          "base_uri": "https://localhost:8080/"
        },
        "outputId": "ceaa137f-4172-403e-c7d7-8a9e1b198ab9"
      },
      "source": [
        "# Get the information of DataFrame using the 'info()' function.\n",
        "df.info()"
      ],
      "execution_count": null,
      "outputs": [
        {
          "output_type": "stream",
          "text": [
            "<class 'pandas.core.frame.DataFrame'>\n",
            "RangeIndex: 97606 entries, 0 to 97605\n",
            "Data columns (total 5 columns):\n",
            " #   Column      Non-Null Count  Dtype \n",
            "---  ------      --------------  ----- \n",
            " 0   id          97606 non-null  object\n",
            " 1   room_id/id  97606 non-null  object\n",
            " 2   noted_date  97606 non-null  object\n",
            " 3   temp        97606 non-null  int64 \n",
            " 4   out/in      97606 non-null  object\n",
            "dtypes: int64(1), object(4)\n",
            "memory usage: 3.7+ MB\n"
          ],
          "name": "stdout"
        }
      ]
    },
    {
      "cell_type": "markdown",
      "metadata": {
        "id": "EWiqsKkOnT7J"
      },
      "source": [
        "---"
      ]
    },
    {
      "cell_type": "markdown",
      "metadata": {
        "id": "wmUC8gulmsu8"
      },
      "source": [
        "#### 2. Missing Values Check\n",
        "\n",
        "Check for the null values in the DataFrame."
      ]
    },
    {
      "cell_type": "code",
      "metadata": {
        "id": "jn-YY72GnaGz",
        "colab": {
          "base_uri": "https://localhost:8080/"
        },
        "outputId": "032649c7-f657-4c86-dc95-c41837f5c23c"
      },
      "source": [
        "# The null values in DataFrame are checked using the 'isnull()' function.\n",
        "df.isnull().sum()"
      ],
      "execution_count": null,
      "outputs": [
        {
          "output_type": "execute_result",
          "data": {
            "text/plain": [
              "id            0\n",
              "room_id/id    0\n",
              "noted_date    0\n",
              "temp          0\n",
              "out/in        0\n",
              "dtype: int64"
            ]
          },
          "metadata": {
            "tags": []
          },
          "execution_count": 36
        }
      ]
    },
    {
      "cell_type": "markdown",
      "metadata": {
        "id": "lHaX4i4Gni7R"
      },
      "source": [
        "**Q:** Are there any columns in the DataFrame containing the missing values? If yes, then provide the column names.\n",
        "\n",
        "**A:** No. There are no missing values in the dataframe."
      ]
    },
    {
      "cell_type": "markdown",
      "metadata": {
        "id": "-gNsMM1pn4Dl"
      },
      "source": [
        "---"
      ]
    },
    {
      "cell_type": "markdown",
      "metadata": {
        "id": "rLDsqxRtn2Td"
      },
      "source": [
        "#### 3. Drop Unnecessary Columns\n",
        "\n",
        "\n",
        "Find out if there are unnecessary columns in the DataFrame. If there are any, then drop them from the DataFrame."
      ]
    },
    {
      "cell_type": "code",
      "metadata": {
        "id": "vWdxA_1KStHT"
      },
      "source": [
        "# Drop the unnecessary columns from the DataFrame. \n"
      ],
      "execution_count": null,
      "outputs": []
    },
    {
      "cell_type": "markdown",
      "metadata": {
        "id": "RFNyRIARo3ri"
      },
      "source": [
        "**Hint**: You can drop the columns using the `drop()` function."
      ]
    },
    {
      "cell_type": "markdown",
      "metadata": {
        "id": "7fVWyg-noVyy"
      },
      "source": [
        "---"
      ]
    },
    {
      "cell_type": "markdown",
      "metadata": {
        "id": "iRyZRBgBoXEj"
      },
      "source": [
        "#### 4. Get `datetime` Objects\n",
        "\n",
        "Convert the values contained in the `noted_date` column into the `datetime` objects."
      ]
    },
    {
      "cell_type": "code",
      "metadata": {
        "id": "WYSZvAx7S_JE",
        "colab": {
          "base_uri": "https://localhost:8080/",
          "height": 419
        },
        "outputId": "d852d3a6-f293-4af7-866b-f4c39acdd1e9"
      },
      "source": [
        "# The values contained in the 'noted_date' column are coverted into the 'datetime' objects.\n",
        "df['noted_date']=pd.to_datetime(df['noted_date'])\n",
        "df"
      ],
      "execution_count": null,
      "outputs": [
        {
          "output_type": "execute_result",
          "data": {
            "text/html": [
              "<div>\n",
              "<style scoped>\n",
              "    .dataframe tbody tr th:only-of-type {\n",
              "        vertical-align: middle;\n",
              "    }\n",
              "\n",
              "    .dataframe tbody tr th {\n",
              "        vertical-align: top;\n",
              "    }\n",
              "\n",
              "    .dataframe thead th {\n",
              "        text-align: right;\n",
              "    }\n",
              "</style>\n",
              "<table border=\"1\" class=\"dataframe\">\n",
              "  <thead>\n",
              "    <tr style=\"text-align: right;\">\n",
              "      <th></th>\n",
              "      <th>id</th>\n",
              "      <th>room_id/id</th>\n",
              "      <th>noted_date</th>\n",
              "      <th>temp</th>\n",
              "      <th>out/in</th>\n",
              "    </tr>\n",
              "  </thead>\n",
              "  <tbody>\n",
              "    <tr>\n",
              "      <th>0</th>\n",
              "      <td>__export__.temp_log_196134_bd201015</td>\n",
              "      <td>Room Admin</td>\n",
              "      <td>2018-08-12 09:30:00</td>\n",
              "      <td>29</td>\n",
              "      <td>In</td>\n",
              "    </tr>\n",
              "    <tr>\n",
              "      <th>1</th>\n",
              "      <td>__export__.temp_log_196131_7bca51bc</td>\n",
              "      <td>Room Admin</td>\n",
              "      <td>2018-08-12 09:30:00</td>\n",
              "      <td>29</td>\n",
              "      <td>In</td>\n",
              "    </tr>\n",
              "    <tr>\n",
              "      <th>2</th>\n",
              "      <td>__export__.temp_log_196127_522915e3</td>\n",
              "      <td>Room Admin</td>\n",
              "      <td>2018-08-12 09:29:00</td>\n",
              "      <td>41</td>\n",
              "      <td>Out</td>\n",
              "    </tr>\n",
              "    <tr>\n",
              "      <th>3</th>\n",
              "      <td>__export__.temp_log_196128_be0919cf</td>\n",
              "      <td>Room Admin</td>\n",
              "      <td>2018-08-12 09:29:00</td>\n",
              "      <td>41</td>\n",
              "      <td>Out</td>\n",
              "    </tr>\n",
              "    <tr>\n",
              "      <th>4</th>\n",
              "      <td>__export__.temp_log_196126_d30b72fb</td>\n",
              "      <td>Room Admin</td>\n",
              "      <td>2018-08-12 09:29:00</td>\n",
              "      <td>31</td>\n",
              "      <td>In</td>\n",
              "    </tr>\n",
              "    <tr>\n",
              "      <th>...</th>\n",
              "      <td>...</td>\n",
              "      <td>...</td>\n",
              "      <td>...</td>\n",
              "      <td>...</td>\n",
              "      <td>...</td>\n",
              "    </tr>\n",
              "    <tr>\n",
              "      <th>97601</th>\n",
              "      <td>__export__.temp_log_91076_7fbd08ca</td>\n",
              "      <td>Room Admin</td>\n",
              "      <td>2018-07-28 07:07:00</td>\n",
              "      <td>31</td>\n",
              "      <td>In</td>\n",
              "    </tr>\n",
              "    <tr>\n",
              "      <th>97602</th>\n",
              "      <td>__export__.temp_log_147733_62c03f31</td>\n",
              "      <td>Room Admin</td>\n",
              "      <td>2018-07-28 07:07:00</td>\n",
              "      <td>31</td>\n",
              "      <td>In</td>\n",
              "    </tr>\n",
              "    <tr>\n",
              "      <th>97603</th>\n",
              "      <td>__export__.temp_log_100386_84093a68</td>\n",
              "      <td>Room Admin</td>\n",
              "      <td>2018-07-28 07:06:00</td>\n",
              "      <td>31</td>\n",
              "      <td>In</td>\n",
              "    </tr>\n",
              "    <tr>\n",
              "      <th>97604</th>\n",
              "      <td>__export__.temp_log_123297_4d8e690b</td>\n",
              "      <td>Room Admin</td>\n",
              "      <td>2018-07-28 07:06:00</td>\n",
              "      <td>31</td>\n",
              "      <td>In</td>\n",
              "    </tr>\n",
              "    <tr>\n",
              "      <th>97605</th>\n",
              "      <td>__export__.temp_log_133741_32958703</td>\n",
              "      <td>Room Admin</td>\n",
              "      <td>2018-07-28 07:06:00</td>\n",
              "      <td>31</td>\n",
              "      <td>In</td>\n",
              "    </tr>\n",
              "  </tbody>\n",
              "</table>\n",
              "<p>97606 rows × 5 columns</p>\n",
              "</div>"
            ],
            "text/plain": [
              "                                        id  room_id/id  ... temp  out/in\n",
              "0      __export__.temp_log_196134_bd201015  Room Admin  ...   29      In\n",
              "1      __export__.temp_log_196131_7bca51bc  Room Admin  ...   29      In\n",
              "2      __export__.temp_log_196127_522915e3  Room Admin  ...   41     Out\n",
              "3      __export__.temp_log_196128_be0919cf  Room Admin  ...   41     Out\n",
              "4      __export__.temp_log_196126_d30b72fb  Room Admin  ...   31      In\n",
              "...                                    ...         ...  ...  ...     ...\n",
              "97601   __export__.temp_log_91076_7fbd08ca  Room Admin  ...   31      In\n",
              "97602  __export__.temp_log_147733_62c03f31  Room Admin  ...   31      In\n",
              "97603  __export__.temp_log_100386_84093a68  Room Admin  ...   31      In\n",
              "97604  __export__.temp_log_123297_4d8e690b  Room Admin  ...   31      In\n",
              "97605  __export__.temp_log_133741_32958703  Room Admin  ...   31      In\n",
              "\n",
              "[97606 rows x 5 columns]"
            ]
          },
          "metadata": {
            "tags": []
          },
          "execution_count": 38
        }
      ]
    },
    {
      "cell_type": "code",
      "metadata": {
        "id": "oc7F-m5TTKbZ",
        "colab": {
          "base_uri": "https://localhost:8080/"
        },
        "outputId": "0dcaa067-81fa-4d92-c8f5-40fe22834373"
      },
      "source": [
        "# Verify whether the conversion is successful or not.\n",
        "df.info()"
      ],
      "execution_count": null,
      "outputs": [
        {
          "output_type": "stream",
          "text": [
            "<class 'pandas.core.frame.DataFrame'>\n",
            "RangeIndex: 97606 entries, 0 to 97605\n",
            "Data columns (total 5 columns):\n",
            " #   Column      Non-Null Count  Dtype         \n",
            "---  ------      --------------  -----         \n",
            " 0   id          97606 non-null  object        \n",
            " 1   room_id/id  97606 non-null  object        \n",
            " 2   noted_date  97606 non-null  datetime64[ns]\n",
            " 3   temp        97606 non-null  int64         \n",
            " 4   out/in      97606 non-null  object        \n",
            "dtypes: datetime64[ns](1), int64(1), object(3)\n",
            "memory usage: 3.7+ MB\n"
          ],
          "name": "stdout"
        }
      ]
    },
    {
      "cell_type": "markdown",
      "metadata": {
        "id": "jhpqesWa2zcm"
      },
      "source": [
        "**Hint**: \n",
        "\n",
        " - You can convert the values into `datetime` objects using the `to_datetime()` function of the `pandas` module. \n",
        "\n",
        " - You can verify the same using the `info()` function."
      ]
    },
    {
      "cell_type": "markdown",
      "metadata": {
        "id": "Dt2AYygJo_VV"
      },
      "source": [
        "---"
      ]
    },
    {
      "cell_type": "markdown",
      "metadata": {
        "id": "PRvYhIdro_84"
      },
      "source": [
        "#### 5. Sort The DataFrame\n",
        "\n",
        "Sort the DataFrame in the chronological order."
      ]
    },
    {
      "cell_type": "code",
      "metadata": {
        "id": "mO9zU3_Oaent",
        "colab": {
          "base_uri": "https://localhost:8080/",
          "height": 419
        },
        "outputId": "12e4b8ea-41e5-459b-e7ad-d29b145ab36d"
      },
      "source": [
        "# Sort the DataFrame in the increasing order of dates and time.\n",
        "df=df.sort_values(by='noted_date')\n",
        "df"
      ],
      "execution_count": null,
      "outputs": [
        {
          "output_type": "execute_result",
          "data": {
            "text/html": [
              "<div>\n",
              "<style scoped>\n",
              "    .dataframe tbody tr th:only-of-type {\n",
              "        vertical-align: middle;\n",
              "    }\n",
              "\n",
              "    .dataframe tbody tr th {\n",
              "        vertical-align: top;\n",
              "    }\n",
              "\n",
              "    .dataframe thead th {\n",
              "        text-align: right;\n",
              "    }\n",
              "</style>\n",
              "<table border=\"1\" class=\"dataframe\">\n",
              "  <thead>\n",
              "    <tr style=\"text-align: right;\">\n",
              "      <th></th>\n",
              "      <th>id</th>\n",
              "      <th>room_id/id</th>\n",
              "      <th>noted_date</th>\n",
              "      <th>temp</th>\n",
              "      <th>out/in</th>\n",
              "    </tr>\n",
              "  </thead>\n",
              "  <tbody>\n",
              "    <tr>\n",
              "      <th>16218</th>\n",
              "      <td>__export__.temp_log_126924_cb744837</td>\n",
              "      <td>Room Admin</td>\n",
              "      <td>2018-01-11 00:06:00</td>\n",
              "      <td>32</td>\n",
              "      <td>In</td>\n",
              "    </tr>\n",
              "    <tr>\n",
              "      <th>16217</th>\n",
              "      <td>__export__.temp_log_146101_e61c18d4</td>\n",
              "      <td>Room Admin</td>\n",
              "      <td>2018-01-11 00:07:00</td>\n",
              "      <td>40</td>\n",
              "      <td>Out</td>\n",
              "    </tr>\n",
              "    <tr>\n",
              "      <th>16216</th>\n",
              "      <td>__export__.temp_log_111262_7b3ed086</td>\n",
              "      <td>Room Admin</td>\n",
              "      <td>2018-01-11 00:09:00</td>\n",
              "      <td>39</td>\n",
              "      <td>Out</td>\n",
              "    </tr>\n",
              "    <tr>\n",
              "      <th>16215</th>\n",
              "      <td>__export__.temp_log_147650_344507e9</td>\n",
              "      <td>Room Admin</td>\n",
              "      <td>2018-01-11 00:13:00</td>\n",
              "      <td>40</td>\n",
              "      <td>Out</td>\n",
              "    </tr>\n",
              "    <tr>\n",
              "      <th>16214</th>\n",
              "      <td>__export__.temp_log_139505_cd77d7f9</td>\n",
              "      <td>Room Admin</td>\n",
              "      <td>2018-01-11 00:23:00</td>\n",
              "      <td>40</td>\n",
              "      <td>Out</td>\n",
              "    </tr>\n",
              "    <tr>\n",
              "      <th>...</th>\n",
              "      <td>...</td>\n",
              "      <td>...</td>\n",
              "      <td>...</td>\n",
              "      <td>...</td>\n",
              "      <td>...</td>\n",
              "    </tr>\n",
              "    <tr>\n",
              "      <th>50668</th>\n",
              "      <td>__export__.temp_log_41241_36e995ef</td>\n",
              "      <td>Room Admin</td>\n",
              "      <td>2018-12-10 23:41:00</td>\n",
              "      <td>44</td>\n",
              "      <td>Out</td>\n",
              "    </tr>\n",
              "    <tr>\n",
              "      <th>50667</th>\n",
              "      <td>__export__.temp_log_41244_1cef6363</td>\n",
              "      <td>Room Admin</td>\n",
              "      <td>2018-12-10 23:43:00</td>\n",
              "      <td>44</td>\n",
              "      <td>Out</td>\n",
              "    </tr>\n",
              "    <tr>\n",
              "      <th>50666</th>\n",
              "      <td>__export__.temp_log_41249_7d6819cd</td>\n",
              "      <td>Room Admin</td>\n",
              "      <td>2018-12-10 23:49:00</td>\n",
              "      <td>44</td>\n",
              "      <td>Out</td>\n",
              "    </tr>\n",
              "    <tr>\n",
              "      <th>50665</th>\n",
              "      <td>__export__.temp_log_41250_eed95540</td>\n",
              "      <td>Room Admin</td>\n",
              "      <td>2018-12-10 23:51:00</td>\n",
              "      <td>45</td>\n",
              "      <td>Out</td>\n",
              "    </tr>\n",
              "    <tr>\n",
              "      <th>50664</th>\n",
              "      <td>__export__.temp_log_41254_5b6ff69c</td>\n",
              "      <td>Room Admin</td>\n",
              "      <td>2018-12-10 23:55:00</td>\n",
              "      <td>44</td>\n",
              "      <td>Out</td>\n",
              "    </tr>\n",
              "  </tbody>\n",
              "</table>\n",
              "<p>97606 rows × 5 columns</p>\n",
              "</div>"
            ],
            "text/plain": [
              "                                        id  room_id/id  ... temp  out/in\n",
              "16218  __export__.temp_log_126924_cb744837  Room Admin  ...   32      In\n",
              "16217  __export__.temp_log_146101_e61c18d4  Room Admin  ...   40     Out\n",
              "16216  __export__.temp_log_111262_7b3ed086  Room Admin  ...   39     Out\n",
              "16215  __export__.temp_log_147650_344507e9  Room Admin  ...   40     Out\n",
              "16214  __export__.temp_log_139505_cd77d7f9  Room Admin  ...   40     Out\n",
              "...                                    ...         ...  ...  ...     ...\n",
              "50668   __export__.temp_log_41241_36e995ef  Room Admin  ...   44     Out\n",
              "50667   __export__.temp_log_41244_1cef6363  Room Admin  ...   44     Out\n",
              "50666   __export__.temp_log_41249_7d6819cd  Room Admin  ...   44     Out\n",
              "50665   __export__.temp_log_41250_eed95540  Room Admin  ...   45     Out\n",
              "50664   __export__.temp_log_41254_5b6ff69c  Room Admin  ...   44     Out\n",
              "\n",
              "[97606 rows x 5 columns]"
            ]
          },
          "metadata": {
            "tags": []
          },
          "execution_count": 40
        }
      ]
    },
    {
      "cell_type": "markdown",
      "metadata": {
        "id": "_hWJHZs_3RTa"
      },
      "source": [
        "**Hint**: You can sort the values by using the `sort_values()` function."
      ]
    },
    {
      "cell_type": "markdown",
      "metadata": {
        "id": "Eipd1aBBpNve"
      },
      "source": [
        "---"
      ]
    },
    {
      "cell_type": "markdown",
      "metadata": {
        "id": "Szh550y0pOWL"
      },
      "source": [
        "#### 6. Add More Features\n",
        "\n",
        "Get the year, month, day, day name, hours, and minutes values from the `datetime` values and create new columns for the same."
      ]
    },
    {
      "cell_type": "code",
      "metadata": {
        "id": "YESR-mc8TLYW"
      },
      "source": [
        "# Create new columns for year, month, day, day name, hours and minutes values and add to the DataFrame.\n",
        "year_series=df['noted_date'].dt.year\n",
        "month_series=df['noted_date'].dt.month\n",
        "day_series=df['noted_date'].dt.day\n",
        "dayname_series=df['noted_date'].dt.day_name()\n",
        "hour_series=df['noted_date'].dt.hour\n",
        "minute_series=df['noted_date'].dt.minute\n",
        "\n",
        "df['Year']=year_series\n",
        "df['Month']=month_series\n",
        "df['Day']=day_series\n",
        "df['Day Name']=dayname_series\n",
        "df['Hours']=hour_series\n",
        "df['Minutes']=minute_series\n",
        "\n"
      ],
      "execution_count": null,
      "outputs": []
    },
    {
      "cell_type": "markdown",
      "metadata": {
        "id": "jnxD0-SCKIjN"
      },
      "source": [
        "**Hints**:\n",
        "\n",
        "-  You can create the `year` column from the `noted_date` column using `df['noted_date'].dt.year`.\n",
        "\n",
        "- You can create the `day_name` column from the `noted_date` column using `df['noted_date'].dt.day_name()`.\n",
        "\n",
        "Similarly create new columns for month, day, hours and minutes values and add to the DataFrame."
      ]
    },
    {
      "cell_type": "code",
      "metadata": {
        "id": "Fw5rt9R_TW5i",
        "colab": {
          "base_uri": "https://localhost:8080/",
          "height": 326
        },
        "outputId": "3b4353f3-25ef-4801-8b6f-55dc4c8178eb"
      },
      "source": [
        "# Display the first five rows of the DataFrame.\n",
        "df.head()"
      ],
      "execution_count": null,
      "outputs": [
        {
          "output_type": "execute_result",
          "data": {
            "text/html": [
              "<div>\n",
              "<style scoped>\n",
              "    .dataframe tbody tr th:only-of-type {\n",
              "        vertical-align: middle;\n",
              "    }\n",
              "\n",
              "    .dataframe tbody tr th {\n",
              "        vertical-align: top;\n",
              "    }\n",
              "\n",
              "    .dataframe thead th {\n",
              "        text-align: right;\n",
              "    }\n",
              "</style>\n",
              "<table border=\"1\" class=\"dataframe\">\n",
              "  <thead>\n",
              "    <tr style=\"text-align: right;\">\n",
              "      <th></th>\n",
              "      <th>id</th>\n",
              "      <th>room_id/id</th>\n",
              "      <th>noted_date</th>\n",
              "      <th>temp</th>\n",
              "      <th>out/in</th>\n",
              "      <th>Year</th>\n",
              "      <th>Month</th>\n",
              "      <th>Day</th>\n",
              "      <th>Day Name</th>\n",
              "      <th>Hours</th>\n",
              "      <th>Minutes</th>\n",
              "    </tr>\n",
              "  </thead>\n",
              "  <tbody>\n",
              "    <tr>\n",
              "      <th>16218</th>\n",
              "      <td>__export__.temp_log_126924_cb744837</td>\n",
              "      <td>Room Admin</td>\n",
              "      <td>2018-01-11 00:06:00</td>\n",
              "      <td>32</td>\n",
              "      <td>In</td>\n",
              "      <td>2018</td>\n",
              "      <td>1</td>\n",
              "      <td>11</td>\n",
              "      <td>Thursday</td>\n",
              "      <td>0</td>\n",
              "      <td>6</td>\n",
              "    </tr>\n",
              "    <tr>\n",
              "      <th>16217</th>\n",
              "      <td>__export__.temp_log_146101_e61c18d4</td>\n",
              "      <td>Room Admin</td>\n",
              "      <td>2018-01-11 00:07:00</td>\n",
              "      <td>40</td>\n",
              "      <td>Out</td>\n",
              "      <td>2018</td>\n",
              "      <td>1</td>\n",
              "      <td>11</td>\n",
              "      <td>Thursday</td>\n",
              "      <td>0</td>\n",
              "      <td>7</td>\n",
              "    </tr>\n",
              "    <tr>\n",
              "      <th>16216</th>\n",
              "      <td>__export__.temp_log_111262_7b3ed086</td>\n",
              "      <td>Room Admin</td>\n",
              "      <td>2018-01-11 00:09:00</td>\n",
              "      <td>39</td>\n",
              "      <td>Out</td>\n",
              "      <td>2018</td>\n",
              "      <td>1</td>\n",
              "      <td>11</td>\n",
              "      <td>Thursday</td>\n",
              "      <td>0</td>\n",
              "      <td>9</td>\n",
              "    </tr>\n",
              "    <tr>\n",
              "      <th>16215</th>\n",
              "      <td>__export__.temp_log_147650_344507e9</td>\n",
              "      <td>Room Admin</td>\n",
              "      <td>2018-01-11 00:13:00</td>\n",
              "      <td>40</td>\n",
              "      <td>Out</td>\n",
              "      <td>2018</td>\n",
              "      <td>1</td>\n",
              "      <td>11</td>\n",
              "      <td>Thursday</td>\n",
              "      <td>0</td>\n",
              "      <td>13</td>\n",
              "    </tr>\n",
              "    <tr>\n",
              "      <th>16214</th>\n",
              "      <td>__export__.temp_log_139505_cd77d7f9</td>\n",
              "      <td>Room Admin</td>\n",
              "      <td>2018-01-11 00:23:00</td>\n",
              "      <td>40</td>\n",
              "      <td>Out</td>\n",
              "      <td>2018</td>\n",
              "      <td>1</td>\n",
              "      <td>11</td>\n",
              "      <td>Thursday</td>\n",
              "      <td>0</td>\n",
              "      <td>23</td>\n",
              "    </tr>\n",
              "  </tbody>\n",
              "</table>\n",
              "</div>"
            ],
            "text/plain": [
              "                                        id  room_id/id  ... Hours  Minutes\n",
              "16218  __export__.temp_log_126924_cb744837  Room Admin  ...     0        6\n",
              "16217  __export__.temp_log_146101_e61c18d4  Room Admin  ...     0        7\n",
              "16216  __export__.temp_log_111262_7b3ed086  Room Admin  ...     0        9\n",
              "16215  __export__.temp_log_147650_344507e9  Room Admin  ...     0       13\n",
              "16214  __export__.temp_log_139505_cd77d7f9  Room Admin  ...     0       23\n",
              "\n",
              "[5 rows x 11 columns]"
            ]
          },
          "metadata": {
            "tags": []
          },
          "execution_count": 42
        }
      ]
    },
    {
      "cell_type": "markdown",
      "metadata": {
        "id": "hrkRuMQ7tbEd"
      },
      "source": [
        "---"
      ]
    },
    {
      "cell_type": "markdown",
      "metadata": {
        "id": "4mxjGIHQtkl4"
      },
      "source": [
        "#### 7. Line Plots and Bar Plots\n",
        "\n",
        "Create line plots and box plots for the temperature recorded in the indoor and outdoor settings."
      ]
    },
    {
      "cell_type": "code",
      "metadata": {
        "id": "v4WEDxIbZjcW",
        "colab": {
          "base_uri": "https://localhost:8080/",
          "height": 626
        },
        "outputId": "8f05c81f-85e4-448b-ee45-a9ffde1a3eae"
      },
      "source": [
        "# Create a DataFrame for the indoor temperature records using 'df[df['out/in'] == 'In']'.\n",
        "in_temp_df=df[df['out/in']=='In']\n",
        "in_temp_df"
      ],
      "execution_count": null,
      "outputs": [
        {
          "output_type": "execute_result",
          "data": {
            "text/html": [
              "<div>\n",
              "<style scoped>\n",
              "    .dataframe tbody tr th:only-of-type {\n",
              "        vertical-align: middle;\n",
              "    }\n",
              "\n",
              "    .dataframe tbody tr th {\n",
              "        vertical-align: top;\n",
              "    }\n",
              "\n",
              "    .dataframe thead th {\n",
              "        text-align: right;\n",
              "    }\n",
              "</style>\n",
              "<table border=\"1\" class=\"dataframe\">\n",
              "  <thead>\n",
              "    <tr style=\"text-align: right;\">\n",
              "      <th></th>\n",
              "      <th>id</th>\n",
              "      <th>room_id/id</th>\n",
              "      <th>noted_date</th>\n",
              "      <th>temp</th>\n",
              "      <th>out/in</th>\n",
              "      <th>Year</th>\n",
              "      <th>Month</th>\n",
              "      <th>Day</th>\n",
              "      <th>Day Name</th>\n",
              "      <th>Hours</th>\n",
              "      <th>Minutes</th>\n",
              "    </tr>\n",
              "  </thead>\n",
              "  <tbody>\n",
              "    <tr>\n",
              "      <th>16218</th>\n",
              "      <td>__export__.temp_log_126924_cb744837</td>\n",
              "      <td>Room Admin</td>\n",
              "      <td>2018-01-11 00:06:00</td>\n",
              "      <td>32</td>\n",
              "      <td>In</td>\n",
              "      <td>2018</td>\n",
              "      <td>1</td>\n",
              "      <td>11</td>\n",
              "      <td>Thursday</td>\n",
              "      <td>0</td>\n",
              "      <td>6</td>\n",
              "    </tr>\n",
              "    <tr>\n",
              "      <th>16186</th>\n",
              "      <td>__export__.temp_log_128828_1f2ca69c</td>\n",
              "      <td>Room Admin</td>\n",
              "      <td>2018-01-11 02:12:00</td>\n",
              "      <td>32</td>\n",
              "      <td>In</td>\n",
              "      <td>2018</td>\n",
              "      <td>1</td>\n",
              "      <td>11</td>\n",
              "      <td>Thursday</td>\n",
              "      <td>2</td>\n",
              "      <td>12</td>\n",
              "    </tr>\n",
              "    <tr>\n",
              "      <th>16176</th>\n",
              "      <td>__export__.temp_log_142141_12bd7384</td>\n",
              "      <td>Room Admin</td>\n",
              "      <td>2018-01-11 02:44:00</td>\n",
              "      <td>32</td>\n",
              "      <td>In</td>\n",
              "      <td>2018</td>\n",
              "      <td>1</td>\n",
              "      <td>11</td>\n",
              "      <td>Thursday</td>\n",
              "      <td>2</td>\n",
              "      <td>44</td>\n",
              "    </tr>\n",
              "    <tr>\n",
              "      <th>16174</th>\n",
              "      <td>__export__.temp_log_106858_cdf61926</td>\n",
              "      <td>Room Admin</td>\n",
              "      <td>2018-01-11 02:46:00</td>\n",
              "      <td>32</td>\n",
              "      <td>In</td>\n",
              "      <td>2018</td>\n",
              "      <td>1</td>\n",
              "      <td>11</td>\n",
              "      <td>Thursday</td>\n",
              "      <td>2</td>\n",
              "      <td>46</td>\n",
              "    </tr>\n",
              "    <tr>\n",
              "      <th>16167</th>\n",
              "      <td>__export__.temp_log_120068_a0fc57cc</td>\n",
              "      <td>Room Admin</td>\n",
              "      <td>2018-01-11 02:58:00</td>\n",
              "      <td>31</td>\n",
              "      <td>In</td>\n",
              "      <td>2018</td>\n",
              "      <td>1</td>\n",
              "      <td>11</td>\n",
              "      <td>Thursday</td>\n",
              "      <td>2</td>\n",
              "      <td>58</td>\n",
              "    </tr>\n",
              "    <tr>\n",
              "      <th>...</th>\n",
              "      <td>...</td>\n",
              "      <td>...</td>\n",
              "      <td>...</td>\n",
              "      <td>...</td>\n",
              "      <td>...</td>\n",
              "      <td>...</td>\n",
              "      <td>...</td>\n",
              "      <td>...</td>\n",
              "      <td>...</td>\n",
              "      <td>...</td>\n",
              "      <td>...</td>\n",
              "    </tr>\n",
              "    <tr>\n",
              "      <th>50723</th>\n",
              "      <td>__export__.temp_log_41083_917dc7ae</td>\n",
              "      <td>Room Admin</td>\n",
              "      <td>2018-12-10 20:25:00</td>\n",
              "      <td>35</td>\n",
              "      <td>In</td>\n",
              "      <td>2018</td>\n",
              "      <td>12</td>\n",
              "      <td>10</td>\n",
              "      <td>Monday</td>\n",
              "      <td>20</td>\n",
              "      <td>25</td>\n",
              "    </tr>\n",
              "    <tr>\n",
              "      <th>50721</th>\n",
              "      <td>__export__.temp_log_41090_c0ed0bd1</td>\n",
              "      <td>Room Admin</td>\n",
              "      <td>2018-12-10 20:35:00</td>\n",
              "      <td>34</td>\n",
              "      <td>In</td>\n",
              "      <td>2018</td>\n",
              "      <td>12</td>\n",
              "      <td>10</td>\n",
              "      <td>Monday</td>\n",
              "      <td>20</td>\n",
              "      <td>35</td>\n",
              "    </tr>\n",
              "    <tr>\n",
              "      <th>50720</th>\n",
              "      <td>__export__.temp_log_41091_8546ae99</td>\n",
              "      <td>Room Admin</td>\n",
              "      <td>2018-12-10 20:37:00</td>\n",
              "      <td>35</td>\n",
              "      <td>In</td>\n",
              "      <td>2018</td>\n",
              "      <td>12</td>\n",
              "      <td>10</td>\n",
              "      <td>Monday</td>\n",
              "      <td>20</td>\n",
              "      <td>37</td>\n",
              "    </tr>\n",
              "    <tr>\n",
              "      <th>50706</th>\n",
              "      <td>__export__.temp_log_41129_77d8da57</td>\n",
              "      <td>Room Admin</td>\n",
              "      <td>2018-12-10 21:31:00</td>\n",
              "      <td>34</td>\n",
              "      <td>In</td>\n",
              "      <td>2018</td>\n",
              "      <td>12</td>\n",
              "      <td>10</td>\n",
              "      <td>Monday</td>\n",
              "      <td>21</td>\n",
              "      <td>31</td>\n",
              "    </tr>\n",
              "    <tr>\n",
              "      <th>50705</th>\n",
              "      <td>__export__.temp_log_41130_13e2eff7</td>\n",
              "      <td>Room Admin</td>\n",
              "      <td>2018-12-10 21:33:00</td>\n",
              "      <td>35</td>\n",
              "      <td>In</td>\n",
              "      <td>2018</td>\n",
              "      <td>12</td>\n",
              "      <td>10</td>\n",
              "      <td>Monday</td>\n",
              "      <td>21</td>\n",
              "      <td>33</td>\n",
              "    </tr>\n",
              "  </tbody>\n",
              "</table>\n",
              "<p>20345 rows × 11 columns</p>\n",
              "</div>"
            ],
            "text/plain": [
              "                                        id  room_id/id  ... Hours  Minutes\n",
              "16218  __export__.temp_log_126924_cb744837  Room Admin  ...     0        6\n",
              "16186  __export__.temp_log_128828_1f2ca69c  Room Admin  ...     2       12\n",
              "16176  __export__.temp_log_142141_12bd7384  Room Admin  ...     2       44\n",
              "16174  __export__.temp_log_106858_cdf61926  Room Admin  ...     2       46\n",
              "16167  __export__.temp_log_120068_a0fc57cc  Room Admin  ...     2       58\n",
              "...                                    ...         ...  ...   ...      ...\n",
              "50723   __export__.temp_log_41083_917dc7ae  Room Admin  ...    20       25\n",
              "50721   __export__.temp_log_41090_c0ed0bd1  Room Admin  ...    20       35\n",
              "50720   __export__.temp_log_41091_8546ae99  Room Admin  ...    20       37\n",
              "50706   __export__.temp_log_41129_77d8da57  Room Admin  ...    21       31\n",
              "50705   __export__.temp_log_41130_13e2eff7  Room Admin  ...    21       33\n",
              "\n",
              "[20345 rows x 11 columns]"
            ]
          },
          "metadata": {
            "tags": []
          },
          "execution_count": 43
        }
      ]
    },
    {
      "cell_type": "markdown",
      "metadata": {
        "id": "AeBsMoIMcKXM"
      },
      "source": [
        "**Hint**: You can create a DataFrame for the indoor temperature records by `df[df['out/in'] == 'In']` and storing it in a varibale (let's say `in_temp_df`)."
      ]
    },
    {
      "cell_type": "code",
      "metadata": {
        "id": "yEnfbJ5fZ3gq",
        "colab": {
          "base_uri": "https://localhost:8080/",
          "height": 554
        },
        "outputId": "f7e70ae4-0871-4e0d-bb15-e5c0a965bd24"
      },
      "source": [
        "# Create a time series line plot for the indoor temperature records.\n",
        "plt.figure(figsize=(23,14))\n",
        "plt.plot(in_temp_df['noted_date'],in_temp_df['temp'])\n",
        "\n",
        "# pass the 'noted_date' and 'temp' columns of the indoor temperature Dataframe inside the 'plot()' function. \n",
        "plt.show()"
      ],
      "execution_count": null,
      "outputs": [
        {
          "output_type": "display_data",
          "data": {
            "image/png": "[encoded data removed]",
            "text/plain": [
              "<Figure size 1656x1008 with 1 Axes>"
            ]
          },
          "metadata": {
            "tags": [],
            "needs_background": "light"
          }
        }
      ]
    },
    {
      "cell_type": "markdown",
      "metadata": {
        "id": "l0yC3vJpcqnC"
      },
      "source": [
        "**Hint**: You can create a time series line plot for the indoor temperature records by passing the `noted_date` and `temp` columns of the `in_temp_df` (DataFrame for the indoor temperature records) as parameters inside the `plot()` function."
      ]
    },
    {
      "cell_type": "code",
      "metadata": {
        "id": "XYXRcAN6axgX",
        "colab": {
          "base_uri": "https://localhost:8080/",
          "height": 626
        },
        "outputId": "1376d7aa-ffc7-464b-df8b-3977b306a26d"
      },
      "source": [
        "# Create a DataFrame for the outdoor temperature records.\n",
        "out_temp_df=df[df['out/in']=='Out']\n",
        "out_temp_df"
      ],
      "execution_count": null,
      "outputs": [
        {
          "output_type": "execute_result",
          "data": {
            "text/html": [
              "<div>\n",
              "<style scoped>\n",
              "    .dataframe tbody tr th:only-of-type {\n",
              "        vertical-align: middle;\n",
              "    }\n",
              "\n",
              "    .dataframe tbody tr th {\n",
              "        vertical-align: top;\n",
              "    }\n",
              "\n",
              "    .dataframe thead th {\n",
              "        text-align: right;\n",
              "    }\n",
              "</style>\n",
              "<table border=\"1\" class=\"dataframe\">\n",
              "  <thead>\n",
              "    <tr style=\"text-align: right;\">\n",
              "      <th></th>\n",
              "      <th>id</th>\n",
              "      <th>room_id/id</th>\n",
              "      <th>noted_date</th>\n",
              "      <th>temp</th>\n",
              "      <th>out/in</th>\n",
              "      <th>Year</th>\n",
              "      <th>Month</th>\n",
              "      <th>Day</th>\n",
              "      <th>Day Name</th>\n",
              "      <th>Hours</th>\n",
              "      <th>Minutes</th>\n",
              "    </tr>\n",
              "  </thead>\n",
              "  <tbody>\n",
              "    <tr>\n",
              "      <th>16217</th>\n",
              "      <td>__export__.temp_log_146101_e61c18d4</td>\n",
              "      <td>Room Admin</td>\n",
              "      <td>2018-01-11 00:07:00</td>\n",
              "      <td>40</td>\n",
              "      <td>Out</td>\n",
              "      <td>2018</td>\n",
              "      <td>1</td>\n",
              "      <td>11</td>\n",
              "      <td>Thursday</td>\n",
              "      <td>0</td>\n",
              "      <td>7</td>\n",
              "    </tr>\n",
              "    <tr>\n",
              "      <th>16216</th>\n",
              "      <td>__export__.temp_log_111262_7b3ed086</td>\n",
              "      <td>Room Admin</td>\n",
              "      <td>2018-01-11 00:09:00</td>\n",
              "      <td>39</td>\n",
              "      <td>Out</td>\n",
              "      <td>2018</td>\n",
              "      <td>1</td>\n",
              "      <td>11</td>\n",
              "      <td>Thursday</td>\n",
              "      <td>0</td>\n",
              "      <td>9</td>\n",
              "    </tr>\n",
              "    <tr>\n",
              "      <th>16215</th>\n",
              "      <td>__export__.temp_log_147650_344507e9</td>\n",
              "      <td>Room Admin</td>\n",
              "      <td>2018-01-11 00:13:00</td>\n",
              "      <td>40</td>\n",
              "      <td>Out</td>\n",
              "      <td>2018</td>\n",
              "      <td>1</td>\n",
              "      <td>11</td>\n",
              "      <td>Thursday</td>\n",
              "      <td>0</td>\n",
              "      <td>13</td>\n",
              "    </tr>\n",
              "    <tr>\n",
              "      <th>16214</th>\n",
              "      <td>__export__.temp_log_139505_cd77d7f9</td>\n",
              "      <td>Room Admin</td>\n",
              "      <td>2018-01-11 00:23:00</td>\n",
              "      <td>40</td>\n",
              "      <td>Out</td>\n",
              "      <td>2018</td>\n",
              "      <td>1</td>\n",
              "      <td>11</td>\n",
              "      <td>Thursday</td>\n",
              "      <td>0</td>\n",
              "      <td>23</td>\n",
              "    </tr>\n",
              "    <tr>\n",
              "      <th>16213</th>\n",
              "      <td>__export__.temp_log_127981_32c85db7</td>\n",
              "      <td>Room Admin</td>\n",
              "      <td>2018-01-11 00:25:00</td>\n",
              "      <td>40</td>\n",
              "      <td>Out</td>\n",
              "      <td>2018</td>\n",
              "      <td>1</td>\n",
              "      <td>11</td>\n",
              "      <td>Thursday</td>\n",
              "      <td>0</td>\n",
              "      <td>25</td>\n",
              "    </tr>\n",
              "    <tr>\n",
              "      <th>...</th>\n",
              "      <td>...</td>\n",
              "      <td>...</td>\n",
              "      <td>...</td>\n",
              "      <td>...</td>\n",
              "      <td>...</td>\n",
              "      <td>...</td>\n",
              "      <td>...</td>\n",
              "      <td>...</td>\n",
              "      <td>...</td>\n",
              "      <td>...</td>\n",
              "      <td>...</td>\n",
              "    </tr>\n",
              "    <tr>\n",
              "      <th>50668</th>\n",
              "      <td>__export__.temp_log_41241_36e995ef</td>\n",
              "      <td>Room Admin</td>\n",
              "      <td>2018-12-10 23:41:00</td>\n",
              "      <td>44</td>\n",
              "      <td>Out</td>\n",
              "      <td>2018</td>\n",
              "      <td>12</td>\n",
              "      <td>10</td>\n",
              "      <td>Monday</td>\n",
              "      <td>23</td>\n",
              "      <td>41</td>\n",
              "    </tr>\n",
              "    <tr>\n",
              "      <th>50667</th>\n",
              "      <td>__export__.temp_log_41244_1cef6363</td>\n",
              "      <td>Room Admin</td>\n",
              "      <td>2018-12-10 23:43:00</td>\n",
              "      <td>44</td>\n",
              "      <td>Out</td>\n",
              "      <td>2018</td>\n",
              "      <td>12</td>\n",
              "      <td>10</td>\n",
              "      <td>Monday</td>\n",
              "      <td>23</td>\n",
              "      <td>43</td>\n",
              "    </tr>\n",
              "    <tr>\n",
              "      <th>50666</th>\n",
              "      <td>__export__.temp_log_41249_7d6819cd</td>\n",
              "      <td>Room Admin</td>\n",
              "      <td>2018-12-10 23:49:00</td>\n",
              "      <td>44</td>\n",
              "      <td>Out</td>\n",
              "      <td>2018</td>\n",
              "      <td>12</td>\n",
              "      <td>10</td>\n",
              "      <td>Monday</td>\n",
              "      <td>23</td>\n",
              "      <td>49</td>\n",
              "    </tr>\n",
              "    <tr>\n",
              "      <th>50665</th>\n",
              "      <td>__export__.temp_log_41250_eed95540</td>\n",
              "      <td>Room Admin</td>\n",
              "      <td>2018-12-10 23:51:00</td>\n",
              "      <td>45</td>\n",
              "      <td>Out</td>\n",
              "      <td>2018</td>\n",
              "      <td>12</td>\n",
              "      <td>10</td>\n",
              "      <td>Monday</td>\n",
              "      <td>23</td>\n",
              "      <td>51</td>\n",
              "    </tr>\n",
              "    <tr>\n",
              "      <th>50664</th>\n",
              "      <td>__export__.temp_log_41254_5b6ff69c</td>\n",
              "      <td>Room Admin</td>\n",
              "      <td>2018-12-10 23:55:00</td>\n",
              "      <td>44</td>\n",
              "      <td>Out</td>\n",
              "      <td>2018</td>\n",
              "      <td>12</td>\n",
              "      <td>10</td>\n",
              "      <td>Monday</td>\n",
              "      <td>23</td>\n",
              "      <td>55</td>\n",
              "    </tr>\n",
              "  </tbody>\n",
              "</table>\n",
              "<p>77261 rows × 11 columns</p>\n",
              "</div>"
            ],
            "text/plain": [
              "                                        id  room_id/id  ... Hours  Minutes\n",
              "16217  __export__.temp_log_146101_e61c18d4  Room Admin  ...     0        7\n",
              "16216  __export__.temp_log_111262_7b3ed086  Room Admin  ...     0        9\n",
              "16215  __export__.temp_log_147650_344507e9  Room Admin  ...     0       13\n",
              "16214  __export__.temp_log_139505_cd77d7f9  Room Admin  ...     0       23\n",
              "16213  __export__.temp_log_127981_32c85db7  Room Admin  ...     0       25\n",
              "...                                    ...         ...  ...   ...      ...\n",
              "50668   __export__.temp_log_41241_36e995ef  Room Admin  ...    23       41\n",
              "50667   __export__.temp_log_41244_1cef6363  Room Admin  ...    23       43\n",
              "50666   __export__.temp_log_41249_7d6819cd  Room Admin  ...    23       49\n",
              "50665   __export__.temp_log_41250_eed95540  Room Admin  ...    23       51\n",
              "50664   __export__.temp_log_41254_5b6ff69c  Room Admin  ...    23       55\n",
              "\n",
              "[77261 rows x 11 columns]"
            ]
          },
          "metadata": {
            "tags": []
          },
          "execution_count": 45
        }
      ]
    },
    {
      "cell_type": "code",
      "metadata": {
        "id": "n7ZcEf6Ja2Xo",
        "colab": {
          "base_uri": "https://localhost:8080/",
          "height": 558
        },
        "outputId": "34d0f3b8-101a-44f7-b8fa-a1a6df3135e9"
      },
      "source": [
        "# Create a time series line plot for the outdoor temperature records.\n",
        "plt.figure(figsize=(23,14))\n",
        "plt.plot(out_temp_df['noted_date'],out_temp_df['temp'])\n",
        "plt.show()"
      ],
      "execution_count": null,
      "outputs": [
        {
          "output_type": "display_data",
          "data": {
            "image/png": "[encoded data removed]",
            "text/plain": [
              "<Figure size 1656x1008 with 1 Axes>"
            ]
          },
          "metadata": {
            "tags": [],
            "needs_background": "light"
          }
        }
      ]
    },
    {
      "cell_type": "code",
      "metadata": {
        "id": "Ocq-kgdQbIcq",
        "colab": {
          "base_uri": "https://localhost:8080/",
          "height": 558
        },
        "outputId": "c3ef189e-3fa5-47a9-f10c-2deed1b37c34"
      },
      "source": [
        "# Compare the time series line plots for both the indoor and outdoor temperature records.\n",
        "plt.figure(figsize=(23,14))\n",
        "plt.plot(in_temp_df['noted_date'],in_temp_df['temp'],color='b',label='Indoor')\n",
        "plt.plot(out_temp_df['noted_date'],out_temp_df['temp'],color='k',label='Outdoor')\n",
        "plt.legend()\n",
        "plt.show()"
      ],
      "execution_count": null,
      "outputs": [
        {
          "output_type": "display_data",
          "data": {
            "image/png": "[encoded data removed]",
            "text/plain": [
              "<Figure size 1656x1008 with 1 Axes>"
            ]
          },
          "metadata": {
            "tags": [],
            "needs_background": "light"
          }
        }
      ]
    },
    {
      "cell_type": "markdown",
      "metadata": {
        "id": "OUpYOdueWlB8"
      },
      "source": [
        "**Hint**: You can compare the time-series line plots by creating both the line plots for indoor and outdoor temperature records inside a single graph."
      ]
    },
    {
      "cell_type": "code",
      "metadata": {
        "id": "iYmjbmvsod5d",
        "colab": {
          "base_uri": "https://localhost:8080/",
          "height": 562
        },
        "outputId": "f5ce3b85-05bc-4a2e-cfa7-2f85768c5375"
      },
      "source": [
        "# Create a box plot to represent the distribution of indoor and outdoor temperatures for the whole year.\n",
        "plt.figure(figsize=(23,14))\n",
        "sns.boxplot(x='out/in',y='temp',data=df)\n",
        "# pass the 'out/in' and 'temp' columns inside the 'x' and 'y' attributes of the 'boxplot()' function.\n",
        "plt.show()"
      ],
      "execution_count": null,
      "outputs": [
        {
          "output_type": "display_data",
          "data": {
            "image/png": "[encoded data removed]",
            "text/plain": [
              "<Figure size 1656x1008 with 1 Axes>"
            ]
          },
          "metadata": {
            "tags": [],
            "needs_background": "light"
          }
        }
      ]
    },
    {
      "cell_type": "markdown",
      "metadata": {
        "id": "DJNuWK6zaQUV"
      },
      "source": [
        "**Hint**: You can achieve the above task by passing the `out/in`  column inside `x` and `temp` column inside `y` attributes of the `boxplot()` function"
      ]
    },
    {
      "cell_type": "markdown",
      "metadata": {
        "id": "t8KpqnWzwipX"
      },
      "source": [
        "---"
      ]
    },
    {
      "cell_type": "markdown",
      "metadata": {
        "id": "iDocSROFw6w-"
      },
      "source": [
        "#### 8. Grouping, Aggregation, and Bar Plots\n",
        "\n",
        "Group the data by the indoor and outdoor temperatures. Also, get monthly mean, standard deviation, median, minimum and maximum values for both the indoor and outdoor groups.\n"
      ]
    },
    {
      "cell_type": "code",
      "metadata": {
        "id": "GRUIeXRTTXyT",
        "colab": {
          "base_uri": "https://localhost:8080/",
          "height": 481
        },
        "outputId": "e8de70a8-3aa9-4e62-9c55-94f9b7c4c39b"
      },
      "source": [
        "# Get the maximum and minimum temperatures for each day in each month.\n",
        "min_max_temp=df.groupby(by=['Month', 'Day']).agg(func={'temp' : ['max', 'min']})\n",
        "min_max_temp"
      ],
      "execution_count": null,
      "outputs": [
        {
          "output_type": "execute_result",
          "data": {
            "text/html": [
              "<div>\n",
              "<style scoped>\n",
              "    .dataframe tbody tr th:only-of-type {\n",
              "        vertical-align: middle;\n",
              "    }\n",
              "\n",
              "    .dataframe tbody tr th {\n",
              "        vertical-align: top;\n",
              "    }\n",
              "\n",
              "    .dataframe thead tr th {\n",
              "        text-align: left;\n",
              "    }\n",
              "\n",
              "    .dataframe thead tr:last-of-type th {\n",
              "        text-align: right;\n",
              "    }\n",
              "</style>\n",
              "<table border=\"1\" class=\"dataframe\">\n",
              "  <thead>\n",
              "    <tr>\n",
              "      <th></th>\n",
              "      <th></th>\n",
              "      <th colspan=\"2\" halign=\"left\">temp</th>\n",
              "    </tr>\n",
              "    <tr>\n",
              "      <th></th>\n",
              "      <th></th>\n",
              "      <th>max</th>\n",
              "      <th>min</th>\n",
              "    </tr>\n",
              "    <tr>\n",
              "      <th>Month</th>\n",
              "      <th>Day</th>\n",
              "      <th></th>\n",
              "      <th></th>\n",
              "    </tr>\n",
              "  </thead>\n",
              "  <tbody>\n",
              "    <tr>\n",
              "      <th rowspan=\"2\" valign=\"top\">1</th>\n",
              "      <th>11</th>\n",
              "      <td>48</td>\n",
              "      <td>29</td>\n",
              "    </tr>\n",
              "    <tr>\n",
              "      <th>12</th>\n",
              "      <td>43</td>\n",
              "      <td>34</td>\n",
              "    </tr>\n",
              "    <tr>\n",
              "      <th rowspan=\"3\" valign=\"top\">2</th>\n",
              "      <th>8</th>\n",
              "      <td>35</td>\n",
              "      <td>31</td>\n",
              "    </tr>\n",
              "    <tr>\n",
              "      <th>11</th>\n",
              "      <td>48</td>\n",
              "      <td>30</td>\n",
              "    </tr>\n",
              "    <tr>\n",
              "      <th>12</th>\n",
              "      <td>42</td>\n",
              "      <td>32</td>\n",
              "    </tr>\n",
              "    <tr>\n",
              "      <th>...</th>\n",
              "      <th>...</th>\n",
              "      <td>...</td>\n",
              "      <td>...</td>\n",
              "    </tr>\n",
              "    <tr>\n",
              "      <th rowspan=\"3\" valign=\"top\">11</th>\n",
              "      <th>28</th>\n",
              "      <td>43</td>\n",
              "      <td>25</td>\n",
              "    </tr>\n",
              "    <tr>\n",
              "      <th>29</th>\n",
              "      <td>43</td>\n",
              "      <td>33</td>\n",
              "    </tr>\n",
              "    <tr>\n",
              "      <th>30</th>\n",
              "      <td>44</td>\n",
              "      <td>34</td>\n",
              "    </tr>\n",
              "    <tr>\n",
              "      <th rowspan=\"2\" valign=\"top\">12</th>\n",
              "      <th>9</th>\n",
              "      <td>35</td>\n",
              "      <td>26</td>\n",
              "    </tr>\n",
              "    <tr>\n",
              "      <th>10</th>\n",
              "      <td>49</td>\n",
              "      <td>30</td>\n",
              "    </tr>\n",
              "  </tbody>\n",
              "</table>\n",
              "<p>86 rows × 2 columns</p>\n",
              "</div>"
            ],
            "text/plain": [
              "          temp    \n",
              "           max min\n",
              "Month Day         \n",
              "1     11    48  29\n",
              "      12    43  34\n",
              "2     8     35  31\n",
              "      11    48  30\n",
              "      12    42  32\n",
              "...        ...  ..\n",
              "11    28    43  25\n",
              "      29    43  33\n",
              "      30    44  34\n",
              "12    9     35  26\n",
              "      10    49  30\n",
              "\n",
              "[86 rows x 2 columns]"
            ]
          },
          "metadata": {
            "tags": []
          },
          "execution_count": 49
        }
      ]
    },
    {
      "cell_type": "markdown",
      "metadata": {
        "id": "Ws_8A75FdIKB"
      },
      "source": [
        "**Hints**:\n",
        "\n",
        "- You can get the temperature for each day in each month by passing both `month` and `day` (columns) inside the `by` parameter (in square braces) of the `groupby()` function.\n",
        "\n",
        "- You can get the maximum and minimum values from the output obtained through the `groupby()` function. To do so you can use the  aggregation function.\n",
        " \n",
        "**Syntax**: `df.groupby(by=['month', 'day']).agg(func={'temp' : ['max', 'min']})`"
      ]
    },
    {
      "cell_type": "code",
      "metadata": {
        "id": "ODcVxBuv4vjT",
        "colab": {
          "base_uri": "https://localhost:8080/",
          "height": 586
        },
        "outputId": "ab335859-0b3a-419e-8a91-14d801c934b1"
      },
      "source": [
        "# Create a bar plot for the monthly median indoor & outdoor temperatures in a single bar chart.\n",
        "# Store the month names in a list i.e the labels of the x-axis\n",
        "months=df['noted_date'].dt.month_name().unique()\n",
        "\n",
        "# Import 'median' from the 'numpy' module  \n",
        "from numpy import median\n",
        "# Pass 'month', 'temp' and 'out/in' columns inside the 'x', 'y' and 'hue' parameters of the 'barplot()' function\n",
        "# Set the 'estimator' attribute with 'median' value\n",
        "plt.figure(figsize=(23,14))\n",
        "sns.barplot(x='Month',y='temp',hue='out/in',data=df,estimator=median)\n",
        "\n",
        "\n",
        "# pass the list holding the name of months inside the 'xticks()' function\n",
        "plt.xticks(ticks=np.arange(12),labels=months, rotation=45)\n",
        "# set 'ticks=np.arrange(12)'\n",
        "plt.show()"
      ],
      "execution_count": null,
      "outputs": [
        {
          "output_type": "display_data",
          "data": {
            "image/png": "[encoded data removed]",
            "text/plain": [
              "<Figure size 1656x1008 with 1 Axes>"
            ]
          },
          "metadata": {
            "tags": [],
            "needs_background": "light"
          }
        }
      ]
    },
    {
      "cell_type": "markdown",
      "metadata": {
        "id": "6elyD8gJyMh9"
      },
      "source": [
        "**Hint**: You can pass `median` inside the `estimator` attribute of the `barplot()` function to plot the monthly median and the `hue` attribute to plot both indoor and outdoor temperatures in a single bar chart."
      ]
    },
    {
      "cell_type": "markdown",
      "metadata": {
        "id": "WQDrxZkf5CEm"
      },
      "source": [
        "**Q:** Which months were the hottest and coldest months?\n",
        "\n",
        "**A:** May and June are the hottest and coldest months."
      ]
    },
    {
      "cell_type": "markdown",
      "metadata": {
        "id": "MPYWOK195Db5"
      },
      "source": [
        "---"
      ]
    },
    {
      "cell_type": "markdown",
      "metadata": {
        "id": "V0mocRsJz4Al"
      },
      "source": [
        "## Fun Fact\n",
        "\n",
        " Let's create a function to label each temperature value on a given day and time with the heat indices as advised in the data-description and get the percentage distribution of the heat zones."
      ]
    },
    {
      "cell_type": "markdown",
      "metadata": {
        "id": "VGO3xt3HtmhL"
      },
      "source": [
        "Here are the heat indices as per the data-description:\n",
        "\n",
        " - Temperature less than or equal to 32 - Green\n",
        "\n",
        " - Temperature greater than 32 and less than or equal to 41 - Yellow\n",
        "\n",
        " - Temperature greater than 41 and less than or equal to 54 - Orange\n",
        "\n",
        " - Temperature greater than 54 - Red"
      ]
    },
    {
      "cell_type": "code",
      "metadata": {
        "id": "8YcJwHCyysyj",
        "colab": {
          "base_uri": "https://localhost:8080/"
        },
        "outputId": "b9303eb0-b4a1-490d-f6c1-bed48a5cd993"
      },
      "source": [
        "# Function to label each temperature value on a given day and time with the heat indices as advised in the data-description.\n",
        "def heat_index(temp_series):\n",
        "  heat_index_list = []\n",
        "  for temp in temp_series:\n",
        "    if temp <= 32:\n",
        "      heat_index_list.append('Green')\n",
        "    elif (temp > 32) and (temp <= 41):\n",
        "      heat_index_list.append('Yellow')\n",
        "    elif (temp > 41) and (temp <= 54):\n",
        "      heat_index_list.append('Orange')\n",
        "    else:\n",
        "      heat_index_list.append('Red')\n",
        "  return pd.Series(data=heat_index_list, index=temp_series.index)\n",
        "\n",
        "heat_index(df['temp'])"
      ],
      "execution_count": null,
      "outputs": [
        {
          "output_type": "execute_result",
          "data": {
            "text/plain": [
              "16218     Green\n",
              "16217    Yellow\n",
              "16216    Yellow\n",
              "16215    Yellow\n",
              "16214    Yellow\n",
              "          ...  \n",
              "50668    Orange\n",
              "50667    Orange\n",
              "50666    Orange\n",
              "50665    Orange\n",
              "50664    Orange\n",
              "Length: 97606, dtype: object"
            ]
          },
          "metadata": {
            "tags": []
          },
          "execution_count": 51
        }
      ]
    },
    {
      "cell_type": "code",
      "metadata": {
        "id": "XkKWAyED07kQ",
        "colab": {
          "base_uri": "https://localhost:8080/",
          "height": 326
        },
        "outputId": "5827f02c-e1df-47ac-dd1c-e12ebd1e93f0"
      },
      "source": [
        "# Add the 'heat_index' column in the DataFrame containing the heat indices corresponding to the temperature values on a given day and time.\n",
        "df['heat_index'] = heat_index(df['temp'])\n",
        "df.head()"
      ],
      "execution_count": null,
      "outputs": [
        {
          "output_type": "execute_result",
          "data": {
            "text/html": [
              "<div>\n",
              "<style scoped>\n",
              "    .dataframe tbody tr th:only-of-type {\n",
              "        vertical-align: middle;\n",
              "    }\n",
              "\n",
              "    .dataframe tbody tr th {\n",
              "        vertical-align: top;\n",
              "    }\n",
              "\n",
              "    .dataframe thead th {\n",
              "        text-align: right;\n",
              "    }\n",
              "</style>\n",
              "<table border=\"1\" class=\"dataframe\">\n",
              "  <thead>\n",
              "    <tr style=\"text-align: right;\">\n",
              "      <th></th>\n",
              "      <th>id</th>\n",
              "      <th>room_id/id</th>\n",
              "      <th>noted_date</th>\n",
              "      <th>temp</th>\n",
              "      <th>out/in</th>\n",
              "      <th>Year</th>\n",
              "      <th>Month</th>\n",
              "      <th>Day</th>\n",
              "      <th>Day Name</th>\n",
              "      <th>Hours</th>\n",
              "      <th>Minutes</th>\n",
              "      <th>heat_index</th>\n",
              "    </tr>\n",
              "  </thead>\n",
              "  <tbody>\n",
              "    <tr>\n",
              "      <th>16218</th>\n",
              "      <td>__export__.temp_log_126924_cb744837</td>\n",
              "      <td>Room Admin</td>\n",
              "      <td>2018-01-11 00:06:00</td>\n",
              "      <td>32</td>\n",
              "      <td>In</td>\n",
              "      <td>2018</td>\n",
              "      <td>1</td>\n",
              "      <td>11</td>\n",
              "      <td>Thursday</td>\n",
              "      <td>0</td>\n",
              "      <td>6</td>\n",
              "      <td>Green</td>\n",
              "    </tr>\n",
              "    <tr>\n",
              "      <th>16217</th>\n",
              "      <td>__export__.temp_log_146101_e61c18d4</td>\n",
              "      <td>Room Admin</td>\n",
              "      <td>2018-01-11 00:07:00</td>\n",
              "      <td>40</td>\n",
              "      <td>Out</td>\n",
              "      <td>2018</td>\n",
              "      <td>1</td>\n",
              "      <td>11</td>\n",
              "      <td>Thursday</td>\n",
              "      <td>0</td>\n",
              "      <td>7</td>\n",
              "      <td>Yellow</td>\n",
              "    </tr>\n",
              "    <tr>\n",
              "      <th>16216</th>\n",
              "      <td>__export__.temp_log_111262_7b3ed086</td>\n",
              "      <td>Room Admin</td>\n",
              "      <td>2018-01-11 00:09:00</td>\n",
              "      <td>39</td>\n",
              "      <td>Out</td>\n",
              "      <td>2018</td>\n",
              "      <td>1</td>\n",
              "      <td>11</td>\n",
              "      <td>Thursday</td>\n",
              "      <td>0</td>\n",
              "      <td>9</td>\n",
              "      <td>Yellow</td>\n",
              "    </tr>\n",
              "    <tr>\n",
              "      <th>16215</th>\n",
              "      <td>__export__.temp_log_147650_344507e9</td>\n",
              "      <td>Room Admin</td>\n",
              "      <td>2018-01-11 00:13:00</td>\n",
              "      <td>40</td>\n",
              "      <td>Out</td>\n",
              "      <td>2018</td>\n",
              "      <td>1</td>\n",
              "      <td>11</td>\n",
              "      <td>Thursday</td>\n",
              "      <td>0</td>\n",
              "      <td>13</td>\n",
              "      <td>Yellow</td>\n",
              "    </tr>\n",
              "    <tr>\n",
              "      <th>16214</th>\n",
              "      <td>__export__.temp_log_139505_cd77d7f9</td>\n",
              "      <td>Room Admin</td>\n",
              "      <td>2018-01-11 00:23:00</td>\n",
              "      <td>40</td>\n",
              "      <td>Out</td>\n",
              "      <td>2018</td>\n",
              "      <td>1</td>\n",
              "      <td>11</td>\n",
              "      <td>Thursday</td>\n",
              "      <td>0</td>\n",
              "      <td>23</td>\n",
              "      <td>Yellow</td>\n",
              "    </tr>\n",
              "  </tbody>\n",
              "</table>\n",
              "</div>"
            ],
            "text/plain": [
              "                                        id  room_id/id  ... Minutes  heat_index\n",
              "16218  __export__.temp_log_126924_cb744837  Room Admin  ...       6       Green\n",
              "16217  __export__.temp_log_146101_e61c18d4  Room Admin  ...       7      Yellow\n",
              "16216  __export__.temp_log_111262_7b3ed086  Room Admin  ...       9      Yellow\n",
              "16215  __export__.temp_log_147650_344507e9  Room Admin  ...      13      Yellow\n",
              "16214  __export__.temp_log_139505_cd77d7f9  Room Admin  ...      23      Yellow\n",
              "\n",
              "[5 rows x 12 columns]"
            ]
          },
          "metadata": {
            "tags": []
          },
          "execution_count": 52
        }
      ]
    },
    {
      "cell_type": "code",
      "metadata": {
        "id": "JZJU1E9-1uMx",
        "colab": {
          "base_uri": "https://localhost:8080/",
          "height": 266
        },
        "outputId": "fe9950c5-d436-42f5-8621-2b3edb78485e"
      },
      "source": [
        "# Counts of the heat zones.\n",
        "group_heat_index = df.groupby(by=['heat_index', 'out/in'])\n",
        "heat_index_agg = group_heat_index.agg(func={'temp' : ['max', 'count']})\n",
        "heat_index_agg"
      ],
      "execution_count": null,
      "outputs": [
        {
          "output_type": "execute_result",
          "data": {
            "text/html": [
              "<div>\n",
              "<style scoped>\n",
              "    .dataframe tbody tr th:only-of-type {\n",
              "        vertical-align: middle;\n",
              "    }\n",
              "\n",
              "    .dataframe tbody tr th {\n",
              "        vertical-align: top;\n",
              "    }\n",
              "\n",
              "    .dataframe thead tr th {\n",
              "        text-align: left;\n",
              "    }\n",
              "\n",
              "    .dataframe thead tr:last-of-type th {\n",
              "        text-align: right;\n",
              "    }\n",
              "</style>\n",
              "<table border=\"1\" class=\"dataframe\">\n",
              "  <thead>\n",
              "    <tr>\n",
              "      <th></th>\n",
              "      <th></th>\n",
              "      <th colspan=\"2\" halign=\"left\">temp</th>\n",
              "    </tr>\n",
              "    <tr>\n",
              "      <th></th>\n",
              "      <th></th>\n",
              "      <th>max</th>\n",
              "      <th>count</th>\n",
              "    </tr>\n",
              "    <tr>\n",
              "      <th>heat_index</th>\n",
              "      <th>out/in</th>\n",
              "      <th></th>\n",
              "      <th></th>\n",
              "    </tr>\n",
              "  </thead>\n",
              "  <tbody>\n",
              "    <tr>\n",
              "      <th rowspan=\"2\" valign=\"top\">Green</th>\n",
              "      <th>In</th>\n",
              "      <td>32</td>\n",
              "      <td>16812</td>\n",
              "    </tr>\n",
              "    <tr>\n",
              "      <th>Out</th>\n",
              "      <td>32</td>\n",
              "      <td>24845</td>\n",
              "    </tr>\n",
              "    <tr>\n",
              "      <th>Orange</th>\n",
              "      <th>Out</th>\n",
              "      <td>51</td>\n",
              "      <td>12407</td>\n",
              "    </tr>\n",
              "    <tr>\n",
              "      <th rowspan=\"2\" valign=\"top\">Yellow</th>\n",
              "      <th>In</th>\n",
              "      <td>41</td>\n",
              "      <td>3533</td>\n",
              "    </tr>\n",
              "    <tr>\n",
              "      <th>Out</th>\n",
              "      <td>41</td>\n",
              "      <td>40009</td>\n",
              "    </tr>\n",
              "  </tbody>\n",
              "</table>\n",
              "</div>"
            ],
            "text/plain": [
              "                  temp       \n",
              "                   max  count\n",
              "heat_index out/in            \n",
              "Green      In       32  16812\n",
              "           Out      32  24845\n",
              "Orange     Out      51  12407\n",
              "Yellow     In       41   3533\n",
              "           Out      41  40009"
            ]
          },
          "metadata": {
            "tags": []
          },
          "execution_count": 53
        }
      ]
    },
    {
      "cell_type": "code",
      "metadata": {
        "id": "bdpF6kfRj_MI",
        "colab": {
          "base_uri": "https://localhost:8080/"
        },
        "outputId": "e0625f48-b402-401e-fd6f-f647be26b80b"
      },
      "source": [
        "heat_index_agg.columns"
      ],
      "execution_count": null,
      "outputs": [
        {
          "output_type": "execute_result",
          "data": {
            "text/plain": [
              "MultiIndex([('temp',   'max'),\n",
              "            ('temp', 'count')],\n",
              "           )"
            ]
          },
          "metadata": {
            "tags": []
          },
          "execution_count": 54
        }
      ]
    },
    {
      "cell_type": "code",
      "metadata": {
        "id": "1qFPD1VikMVr",
        "colab": {
          "base_uri": "https://localhost:8080/",
          "height": 266
        },
        "outputId": "01e2460c-753a-40a6-ba17-1ca7b4b49e33"
      },
      "source": [
        "# Percentage distribution of the heat zones.\n",
        "heat_index_agg[('temp', 'percent')] = heat_index_agg[('temp', 'count')] * 100 / df.shape[0]\n",
        "heat_index_agg"
      ],
      "execution_count": null,
      "outputs": [
        {
          "output_type": "execute_result",
          "data": {
            "text/html": [
              "<div>\n",
              "<style scoped>\n",
              "    .dataframe tbody tr th:only-of-type {\n",
              "        vertical-align: middle;\n",
              "    }\n",
              "\n",
              "    .dataframe tbody tr th {\n",
              "        vertical-align: top;\n",
              "    }\n",
              "\n",
              "    .dataframe thead tr th {\n",
              "        text-align: left;\n",
              "    }\n",
              "\n",
              "    .dataframe thead tr:last-of-type th {\n",
              "        text-align: right;\n",
              "    }\n",
              "</style>\n",
              "<table border=\"1\" class=\"dataframe\">\n",
              "  <thead>\n",
              "    <tr>\n",
              "      <th></th>\n",
              "      <th></th>\n",
              "      <th colspan=\"3\" halign=\"left\">temp</th>\n",
              "    </tr>\n",
              "    <tr>\n",
              "      <th></th>\n",
              "      <th></th>\n",
              "      <th>max</th>\n",
              "      <th>count</th>\n",
              "      <th>percent</th>\n",
              "    </tr>\n",
              "    <tr>\n",
              "      <th>heat_index</th>\n",
              "      <th>out/in</th>\n",
              "      <th></th>\n",
              "      <th></th>\n",
              "      <th></th>\n",
              "    </tr>\n",
              "  </thead>\n",
              "  <tbody>\n",
              "    <tr>\n",
              "      <th rowspan=\"2\" valign=\"top\">Green</th>\n",
              "      <th>In</th>\n",
              "      <td>32</td>\n",
              "      <td>16812</td>\n",
              "      <td>17.224351</td>\n",
              "    </tr>\n",
              "    <tr>\n",
              "      <th>Out</th>\n",
              "      <td>32</td>\n",
              "      <td>24845</td>\n",
              "      <td>25.454378</td>\n",
              "    </tr>\n",
              "    <tr>\n",
              "      <th>Orange</th>\n",
              "      <th>Out</th>\n",
              "      <td>51</td>\n",
              "      <td>12407</td>\n",
              "      <td>12.711309</td>\n",
              "    </tr>\n",
              "    <tr>\n",
              "      <th rowspan=\"2\" valign=\"top\">Yellow</th>\n",
              "      <th>In</th>\n",
              "      <td>41</td>\n",
              "      <td>3533</td>\n",
              "      <td>3.619655</td>\n",
              "    </tr>\n",
              "    <tr>\n",
              "      <th>Out</th>\n",
              "      <td>41</td>\n",
              "      <td>40009</td>\n",
              "      <td>40.990308</td>\n",
              "    </tr>\n",
              "  </tbody>\n",
              "</table>\n",
              "</div>"
            ],
            "text/plain": [
              "                  temp                  \n",
              "                   max  count    percent\n",
              "heat_index out/in                       \n",
              "Green      In       32  16812  17.224351\n",
              "           Out      32  24845  25.454378\n",
              "Orange     Out      51  12407  12.711309\n",
              "Yellow     In       41   3533   3.619655\n",
              "           Out      41  40009  40.990308"
            ]
          },
          "metadata": {
            "tags": []
          },
          "execution_count": 55
        }
      ]
    },
    {
      "cell_type": "markdown",
      "metadata": {
        "id": "l9AIqrUWyFCk"
      },
      "source": [
        "Hence, we can conclude that, Yellow zone has the most number of recordings, that is, nearly 41%."
      ]
    },
    {
      "cell_type": "markdown",
      "metadata": {
        "id": "bXpq2A9PYzwL"
      },
      "source": [
        "---"
      ]
    },
    {
      "cell_type": "markdown",
      "metadata": {
        "id": "FlbotUwqTFBk"
      },
      "source": [
        "### Submitting the Project\n",
        "\n",
        "Follow the steps described below to submit the project.\n",
        "\n",
        "1. After finishing the project, click on the **Share** button on the top right corner of the notebook. A new dialog box will appear.\n",
        "\n",
        "  <img src='https://student-datasets-bucket.s3.ap-south-1.amazonaws.com/images/project-share-images/2_share_button.png' width=500>\n",
        "\n",
        "2. In the dialog box, click on the **Copy link** button.\n",
        "\n",
        "   <img src='https://student-datasets-bucket.s3.ap-south-1.amazonaws.com/images/project-share-images/3_copy_link.png' width=500>\n",
        "\n",
        "\n",
        "3. The link of the duplicate copy (named as **YYYY-MM-DD_StudentName_CapstoneProject11**) of the notebook will get copied \n",
        "\n",
        "   <img src='https://student-datasets-bucket.s3.ap-south-1.amazonaws.com/images/project-share-images/4_copy_link_confirmation.png' width=500>\n",
        "\n",
        "4. Go to your dashboard and click on the **My Projects** option.\n",
        "\n",
        "   <img src='https://student-datasets-bucket.s3.ap-south-1.amazonaws.com/images/project-share-images/5_student_dashboard.png' width=800>\n",
        "\n",
        "   <img src='https://student-datasets-bucket.s3.ap-south-1.amazonaws.com/images/project-share-images/6_my_projects.png' width=800>\n",
        "\n",
        "5. Click on the **View Project** button for the project you want to submit.\n",
        "\n",
        "   <img src='https://student-datasets-bucket.s3.ap-south-1.amazonaws.com/images/project-share-images/7_view_project.png' width=800>\n",
        "\n",
        "6. Click on the **Submit Project Here** button.\n",
        "\n",
        "   <img src='https://student-datasets-bucket.s3.ap-south-1.amazonaws.com/images/project-share-images/8_submit_project.png' width=800>\n",
        "\n",
        "7. Paste the link to the project file named as **YYYY-MM-DD_StudentName_CapstoneProject11** in the URL box and then click on the **Submit** button.\n",
        "\n",
        "   <img src='https://student-datasets-bucket.s3.ap-south-1.amazonaws.com/images/project-share-images/9_enter_project_url.png' width=800>\n"
      ]
    },
    {
      "cell_type": "markdown",
      "metadata": {
        "id": "dCyk5E58TEEA"
      },
      "source": [
        "---"
      ]
    }
  ]
}