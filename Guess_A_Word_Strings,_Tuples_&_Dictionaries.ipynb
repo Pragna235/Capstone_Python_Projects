{
  "nbformat": 4,
  "nbformat_minor": 0,
  "metadata": {
    "colab": {
      "provenance": [],
      "collapsed_sections": [],
      "include_colab_link": true
    },
    "kernelspec": {
      "name": "python3",
      "display_name": "Python 3"
    }
  },
  "cells": [
    {
      "cell_type": "markdown",
      "metadata": {
        "id": "view-in-github",
        "colab_type": "text"
      },
      "source": [
        "<a href=\"https://colab.research.google.com/github/Pragna235/Capstone_Python_Projects/blob/main/Guess_A_Word_Strings%2C_Tuples_%26_Dictionaries.ipynb\" target=\"_parent\"><img src=\"https://colab.research.google.com/assets/colab-badge.svg\" alt=\"Open In Colab\"/></a>"
      ]
    },
    {
      "cell_type": "markdown",
      "metadata": {
        "id": "UYmMpXkNw9I6"
      },
      "source": [
        "# Project 10: Guess A Word - Strings, Tuples & Dictionaries"
      ]
    },
    {
      "cell_type": "markdown",
      "metadata": {
        "id": "PaanjkTewd2U"
      },
      "source": [
        "---"
      ]
    },
    {
      "cell_type": "markdown",
      "metadata": {
        "id": "x9vfVAsbslya"
      },
      "source": [
        "### Context\n",
        "\n",
        "A spelling bee is a competition in which contestants are asked to spell a broad selection of words, usually with a varying degree of difficulty. To compete, contestants must memorize the spellings of words as written in dictionaries, and recite them accordingly. Click on the link provided below to watch a short video on spelling bee contest:\n",
        "\n",
        "https://www.youtube.com/watch?v=G_yW6j2gN1w\n",
        "\n",
        "\n",
        "Drawing inspiration from the spelling bee contest, you need to create a Python-based computer game prototype which allows a player to guess the correct word through observing the jumbled letters of a word."
      ]
    },
    {
      "cell_type": "markdown",
      "metadata": {
        "id": "G9pdov_M0nzo"
      },
      "source": [
        "---"
      ]
    },
    {
      "cell_type": "markdown",
      "metadata": {
        "id": "2i36Yv3-MPY5"
      },
      "source": [
        "### Problem Statement \n",
        "\n",
        "In this project, you have to write a computer program to create an interactive game application called **Guess A Word**. The game must have the following major components:\n",
        "\n",
        "1. A repository of English words, their parts of speech and their meanings.\n",
        "\n",
        "2. Another repository containing the player's name, the number of guesses made by them and the time taken (in seconds) to guess the words.\n",
        "\n",
        "3. A function to jumble the letters of the English words.\n",
        "\n",
        "4. A timer to calculate the total time taken by a player to guess the words.\n",
        "\n",
        "5. Display a word such that its letters are jumbled, its part of speech and its meaning. Then prompt the player to guess the word one-by-one.  \n",
        "\n",
        "6. Check whether the player had guessed the correct word.\n",
        "\n",
        "7. Keep a count of the player's correct guesses."
      ]
    },
    {
      "cell_type": "markdown",
      "metadata": {
        "id": "kRdxNrKrjtEH"
      },
      "source": [
        "---"
      ]
    },
    {
      "cell_type": "markdown",
      "metadata": {
        "id": "QMlxQWHckMU-"
      },
      "source": [
        "#### Getting Started\n",
        "\n",
        "Follow the steps described below to solve the project:\n",
        "\n",
        "1. Click on the link provided below to open the Colab file for this project.\n",
        "   \n",
        "   https://colab.research.google.com/drive/1lAh3nJIa0DFkBe9bbpvIIpT5dPABEDVV?usp=sharing\n",
        "\n",
        "2. Create the duplicate copy of the Colab file. Here are the steps to create the duplicate copy:\n",
        "\n",
        "    - Click on the **File** menu. A new drop-down list will appear.\n",
        "\n",
        "      <img src='https://student-datasets-bucket.s3.ap-south-1.amazonaws.com/images/project-share-images/0_file_menu.png' width=500>\n",
        "\n",
        "    - Click on the **Save a copy in Drive** option. A duplicate copy will get created. It will open up in the new tab on your web browser.\n",
        "\n",
        "      <img src='https://student-datasets-bucket.s3.ap-south-1.amazonaws.com/images/project-share-images/1_create_colab_duplicate_copy.png' width=500>\n",
        "\n",
        "     - After creating the duplicate copy of the notebook, please rename it in the **YYYY-MM-DD_StudentName_CapstoneProject10** format. \n",
        "\n",
        "3. Now, write your code in the prescribed code cells."
      ]
    },
    {
      "cell_type": "markdown",
      "metadata": {
        "id": "hxDLwCHxkmVB"
      },
      "source": [
        "---"
      ]
    },
    {
      "cell_type": "markdown",
      "metadata": {
        "id": "IMYx69ZBwsOV"
      },
      "source": [
        "### Programming Approach\n",
        "\n",
        "To create the **Guess A Word** game, you should follow the steps described below.\n",
        "\n",
        "**Step 1**\n",
        "\n",
        "Store the words to be guessed in a Python tuple. Let's call it `my_words`. A tuple is an immutable collection of items. Hence, it is best to store the words and their information in a tuple. The `my_words` tuple should contain the following 10 words, their parts of speech and their meanings as shown in the image below.\n",
        "\n",
        "<img src='https://student-datasets-bucket.s3.ap-south-1.amazonaws.com/images/project10_tuple_eg.png'>\n",
        "\n",
        "\n",
        "**Note:** Make sure that all the letters of each word are in lowercase.\n",
        "\n",
        "Next, you need to create an empty tuple. Let's call it `records`. For every player, it must store a dictionary containing the player's name, count of the player's guesses and the time (in seconds) taken by the player.\n",
        "\n",
        "**Step 2**\n",
        "\n",
        "As the next step, you need to create a function which returns a string containing the jumbled letters of a word. Let's call it `shuffler()`. E.g., The `shuffler()` function must return either `wims` or `mwsi` or `imsw` etc. for the word `swim`.\n",
        "\n",
        "You can use the `shuffle()` function of the `random` module to shuffle the letters from a word. However, you first have to convert the word into a list of letters using the `list()` function. \n",
        "\n",
        "The `shuffle()` function simply reorganises the order of the items in a Python list. E.g., if a list contains `['s', 'w', 'i', 'm']` items, then the `shuffle()` function will reorder the items as either `['w', 's', 'i', 'm']`, or `['s', 'w', 'm', 'i']` or `['i', 's', 'm', 'w']` etc.\n",
        "\n",
        "Then you should use the `join()` function to convert a list of jumbled letters into a word.\n",
        "\n",
        "**Step 3:**\n",
        "\n",
        "Prompt a player to enter their name. You should also tell the player, the input they need to enter to stop the game midway. Then you need to create a variable to store the counts of a player's guesses.\n",
        "\n",
        "Next, you need to note down the start time of the game using the `time()` function of the `time` module. (Recall the `NumPy II` class).\n",
        "\n",
        "Then you need to create a `for` loop which should do the following:\n",
        "\n",
        "1. Display the jumbled letters of a word in uppercase, the part of speech for the word in uppercase and the meaning of the word in uppercase.\n",
        "\n",
        "2. Take input from the user.\n",
        "\n",
        "3. Convert the user input into lowercase.\n",
        "\n",
        "4. If the player's input is `s`, terminate the loop.\n",
        "\n",
        "5. Else if the player's guess is correct, show the `CORRECT!` message and increase player's guess count by 1.\n",
        "\n",
        "6. Else, show the `WRONG!` message. Also, display the correct word.\n",
        "\n",
        "Immediately at the end of the `for` loop, calculate the time difference between the start time of the `for` loop and the current time.\n",
        "\n",
        "**Step 4:**\n",
        "\n",
        "Then add the player's name, guess count and the time taken by them to guess to the `records` tuple.\n",
        "\n",
        "Then display the time taken by the player to guess the words.\n",
        "\n",
        "Then print all the words, their parts of speech and their meanings in a tabular format.\n",
        "\n",
        "Finally, print the tuple containing player records."
      ]
    },
    {
      "cell_type": "markdown",
      "metadata": {
        "id": "UyYUfSu3fJkj"
      },
      "source": [
        "---"
      ]
    },
    {
      "cell_type": "markdown",
      "metadata": {
        "id": "toeLx5LJpIV-"
      },
      "source": [
        "### Project Requirements\n",
        "\n",
        "1. Create the `my_words` tuple which should contain the following 10 words, their parts of speech and their meanings as shown in the image below.\n",
        "\n",
        "  <img src='https://student-datasets-bucket.s3.ap-south-1.amazonaws.com/images/project10_tuple_eg.png'>\n",
        " \n",
        "2. Create an empty tuple. Call it `records`. \n",
        "\n",
        "3. Create the `shuffler()` function which returns a string having jumbled letters of a word.\n",
        "\n",
        "3. Create the `count` variable to store the counts of the player's guess.\n",
        "\n",
        "4. Create a `for` to run the game.\n",
        "\n",
        "5. Calculate the time taken by a player (`tdelta`) to guess the words.\n",
        "\n",
        "6. Add the records for a player in the `records` tuple.\n",
        "\n",
        "7. Display the time taken by the player (`tdelta`) to guess the words.\n",
        "\n",
        "8. Print all the words, their parts of speech and their meanings in a tabular format.\n",
        "\n",
        "9. Print all the values of the `records` tuple.\n"
      ]
    },
    {
      "cell_type": "markdown",
      "metadata": {
        "id": "5JRlGIBRqCGl"
      },
      "source": [
        "---"
      ]
    },
    {
      "cell_type": "markdown",
      "metadata": {
        "id": "UCusTfW0tcxe"
      },
      "source": [
        "#### 1. Words & Records\n",
        "\n",
        "1. Create the `my_words` tuple which should contain the following 10 words, their parts of speech and their meanings as shown in the image below.\n",
        "\n",
        "  <img src='https://student-datasets-bucket.s3.ap-south-1.amazonaws.com/images/project10_tuple_eg.png'>\n",
        " \n",
        "2. Create an empty tuple to maintain the records of each player. The record should be a dictionary having, `'name', 'guess count'` and `'time taken'` as keys. Call it `records`.\n"
      ]
    },
    {
      "cell_type": "code",
      "metadata": {
        "id": "1IjV8AOYscqS"
      },
      "source": [
        "# Create 'my_words' & 'records' tuples.\n",
        "my_words=(('questionnaire','noun','a list of questions survey'),\n",
        "          ('unconscious','adjective','not conscious or without awareness'),\n",
        "          ('precocious','adjective','unusually mature, especially in mental development'),\n",
        "          ('liaison','noun','a person who maintains a connection between people or groups'),\n",
        "          ('surveillance','noun','continuous observation of a person, place, or activity in order to gather information'),\n",
        "          ('malfeasance','noun','conduct by a public official that violates the public trust or is against the law'),\n",
        "          ('irascible','adjective','irritable, quick-tempered'),\n",
        "          ('idiosyncrasy','noun','a tendency, habit or mannerism that is peculiar to an individual; a quirk'),\n",
        "          ('foudroyant','adjective','sudden and overwhelming or stunning'),\n",
        "          ('eudemonic','adjective','pertaining to conducive to happiness'))\n",
        "records=()\n"
      ],
      "execution_count": null,
      "outputs": []
    },
    {
      "cell_type": "markdown",
      "metadata": {
        "id": "tgcQQhMhsO8n"
      },
      "source": [
        "---"
      ]
    },
    {
      "cell_type": "markdown",
      "metadata": {
        "id": "lAIMkws5JqjO"
      },
      "source": [
        "#### 2. The `shuffler()` Function\n",
        "\n",
        "1. Create the `shuffler()` function which returns a string containing the jumbled letters of a word. E.g., The `shuffler()` function must return either `wims` or `mwsi` or `imsw` etc. for the word `swim`.\n",
        "\n",
        "2. Convert the word into a list of letters using the `list()` function. \n",
        "\n",
        "3. Use the `shuffle()` function of the `random` module to shuffle the letters from a word. It reorders the items in a Python list. E.g., if a list contains `['s', 'w', 'i', 'm']` items, then the `shuffle()` function will reorder the items as either `['w', 's', 'i', 'm']`, or `['s', 'w', 'm', 'i']` or `['i', 's', 'm', 'w']` etc.\n",
        "\n",
        "  **Note:** The `random.shuffle()` function does not return a new output. It applies the operation on the original value. Hence, the updated value will replace the original value contained in a variable.\n",
        "\n",
        "4. Use the `join()` function to convert a list of jumbled letters into a word."
      ]
    },
    {
      "cell_type": "code",
      "metadata": {
        "id": "kjgKfMT-Jp9q",
        "colab": {
          "base_uri": "https://localhost:8080/",
          "height": 35
        },
        "outputId": "633ac989-455a-4181-89ed-113822e5d3c2"
      },
      "source": [
        "# Create the 'shuffler()' function.\n",
        "import random\n",
        "def shuffler(word):\n",
        "  words=list(word)\n",
        "  random.shuffle(words)\n",
        "  reshuffled=''.join(words)\n",
        "  return reshuffled\n",
        "shuffler('swim')\n"
      ],
      "execution_count": null,
      "outputs": [
        {
          "output_type": "execute_result",
          "data": {
            "application/vnd.google.colaboratory.intrinsic+json": {
              "type": "string"
            },
            "text/plain": [
              "'iwsm'"
            ]
          },
          "metadata": {
            "tags": []
          },
          "execution_count": 2
        }
      ]
    },
    {
      "cell_type": "markdown",
      "metadata": {
        "id": "J2MSkVkmsNmq"
      },
      "source": [
        "---"
      ]
    },
    {
      "cell_type": "markdown",
      "metadata": {
        "id": "rZsDogK8LaOW"
      },
      "source": [
        "#### 3. The Remaining Components\n",
        "\n",
        "Before creating the `for` loop, print the title of the game. Here's the expected output:\n",
        "\n",
        "```\n",
        "-----------------------------GUESS A WORD GAME--------------------------------\n",
        "```\n",
        "\n",
        "The title is centre justified and the total length of the string is 120.\n",
        "\n",
        "Prompt a player to enter their name. You should also tell the player, to enter `s` as an input to stop the game midway. \n",
        "\n",
        "Then create a variable to store the counts of a player's guesses.\n",
        "\n",
        "Next, note down the start time of the game using the `time()` function of the `time` module. (Recall the performance section in `NumPy II` lesson).\n",
        "\n",
        "Then create a `for` loop which should do the following:\n",
        "\n",
        "1. Display the jumbled letters of a word in uppercase, the part of speech for the word in uppercase and the meaning of the word in uppercase. Here's an example of the expected output:\n",
        "\n",
        "   ```\n",
        "   Jumbled Letters: UQSTOAEREIINN \n",
        "   Part of speech: NOUN \n",
        "   Meaning: A LIST OF QUESTIONS SURVEY\n",
        "   ```\n",
        "\n",
        "2. Take input from the user and convert it into lowercase.\n",
        "\n",
        "3. If the player's input is `s`, terminate the loop.\n",
        "\n",
        "4. Else if the player's guess is correct, show the `CORRECT!` message and increase player's guess count by 1.\n",
        "\n",
        "5. Else, show the `WRONG!` message. Also, display the correct word. Here's an example of the expected output:\n",
        "\n",
        "   ```\n",
        "   Guess the word:\n",
        "   mealfeseance\n",
        "\n",
        "   WRONG! \n",
        "   Correct word is MALFEASANCE \n",
        "   ```\n",
        "\n",
        "Immediately at the end of the `for` loop, calculate the time difference between the start time of the `for` loop and the current time.\n",
        "\n",
        "Then add the player's name, guess count and the time taken by them to guess to the `records` tuple.\n",
        "\n",
        "Then display the time taken by the player to guess the words. Here's an example of the expected output.\n",
        "\n",
        "In the case the time taken is less than 60 seconds:\n",
        "\n",
        "```\n",
        "You took 3 seconds to guess 0 words correctly.\n",
        "```\n",
        "\n",
        "Otherwise:\n",
        "\n",
        "```\n",
        "You took 1 minute(s) and 47 seconds to guess 4 words correctly.\n",
        "```\n",
        "\n",
        "Then print all the words, their parts of speech and their meanings in a tabular format. Here's the expected output.\n",
        "\n",
        "<img src='https://student-datasets-bucket.s3.ap-south-1.amazonaws.com/images/project10_words_list.png'>\n",
        "\n",
        "In the above output, the `|` the contents for the second and third columns onwards are right justified. The index column has single-digit numbers with leading zeros. Also, the first letter in each string is capitalised.\n",
        "\n",
        "Finally, print the tuple containing the player records. Here's an example of the expected output:\n",
        "\n",
        "```\n",
        "LEADERBOARD\n",
        "------------------------------------------------------------------------------\n",
        "Name: rahul\n",
        "Guess Count: 3\n",
        "Time Taken: 46.01\n",
        "\n",
        "Name: bruce\n",
        "Guess Count: 5\n",
        "Time Taken: 48.84\n",
        "\n",
        "Name: robin\n",
        "Guess Count: 0\n",
        "Time Taken: 1.84\n",
        "\n",
        "Name: robin\n",
        "Guess Count: 0\n",
        "Time Taken: 2.07\n",
        "\n",
        "Name: robin\n",
        "Guess Count: 0\n",
        "Time Taken: 5.16\n",
        "\n",
        "Name: joker\n",
        "Guess Count: 0\n",
        "Time Taken: 2.51\n",
        "```\n"
      ]
    },
    {
      "cell_type": "code",
      "metadata": {
        "id": "UzS-57SXtei6",
        "colab": {
          "base_uri": "https://localhost:8080/"
        },
        "outputId": "8371d00c-ecae-4d1a-9237-3843763d9378"
      },
      "source": [
        "# The remaining components.\n",
        "import time\n",
        "print(f'guess a word game'.upper().center(120,'-'))\n",
        "print()\n",
        "print(\"Complete words list\")\n",
        "print(f'-'.upper().center(120,'-'))\n",
        "\n",
        "for word,speech,meaning in my_words[::1]:\n",
        "  print(word.capitalize().rjust(len(my_words[0][0]),' '),'|',speech.capitalize().rjust(len(my_words[1][1]),' '),'|',meaning.capitalize())\n",
        "  print(f'-'.center(120,'-'))\n",
        "print() \n",
        "name=input(\"Please enter your name = \")\n",
        "print(\"Press 's' to stop the game at any time\")\n",
        "counts=0\n",
        "starttime=time.time()\n",
        "\n",
        "for item in my_words:\n",
        "\n",
        "  print(\"\\nJumbled letters:{} \\nPart of Speech:{} \\nMeaning:{}\".format((shuffler(item[0]).upper()),(item[1].upper()),(item[2].upper())))\n",
        "  player=input(\"Guess your word = \").lower()\n",
        "  if player=='s':\n",
        "    break\n",
        "  elif player==item[0]:\n",
        "    print(\"Correct\")\n",
        "    counts+=1\n",
        "  else:\n",
        "    print(\"Wrong, the correct word is\", item[0].upper())\n",
        "timedelta=time.time() - starttime\n",
        "\n",
        "records=records+({'name': name,\n",
        "                  'guess count':counts,\n",
        "                  'time taken': timedelta},)\n",
        "if timedelta<60:\n",
        "\n",
        "  print(f'You took{timedelta:.2f} seconds to guess{counts} words correctly')\n",
        "else:\n",
        "  print(f'You took{timedelta//60:.2f} minutes and {timedelta%60} seconds to guess {counts} words correctly')\n",
        "\n",
        "print()\n",
        "print('LEADERBAORD')\n",
        "print('-'*50)\n",
        "for record in records:\n",
        "  for key in record.keys():\n",
        "    print(f'{key.title()}:{record[key]}')\n",
        "  print()\n",
        "\n",
        "\n"
      ],
      "execution_count": null,
      "outputs": [
        {
          "output_type": "stream",
          "text": [
            "---------------------------------------------------GUESS A WORD GAME----------------------------------------------------\n",
            "\n",
            "Complete words list\n",
            "------------------------------------------------------------------------------------------------------------------------\n",
            "Questionnaire |      Noun | A list of questions survey\n",
            "------------------------------------------------------------------------------------------------------------------------\n",
            "  Unconscious | Adjective | Not conscious or without awareness\n",
            "------------------------------------------------------------------------------------------------------------------------\n",
            "   Precocious | Adjective | Unusually mature, especially in mental development\n",
            "------------------------------------------------------------------------------------------------------------------------\n",
            "      Liaison |      Noun | A person who maintains a connection between people or groups\n",
            "------------------------------------------------------------------------------------------------------------------------\n",
            " Surveillance |      Noun | Continuous observation of a person, place, or activity in order to gather information\n",
            "------------------------------------------------------------------------------------------------------------------------\n",
            "  Malfeasance |      Noun | Conduct by a public official that violates the public trust or is against the law\n",
            "------------------------------------------------------------------------------------------------------------------------\n",
            "    Irascible | Adjective | Irritable, quick-tempered\n",
            "------------------------------------------------------------------------------------------------------------------------\n",
            " Idiosyncrasy |      Noun | A tendency, habit or mannerism that is peculiar to an individual; a quirk\n",
            "------------------------------------------------------------------------------------------------------------------------\n",
            "   Foudroyant | Adjective | Sudden and overwhelming or stunning\n",
            "------------------------------------------------------------------------------------------------------------------------\n",
            "    Eudemonic | Adjective | Pertaining to conducive to happiness\n",
            "------------------------------------------------------------------------------------------------------------------------\n",
            "\n",
            "Please enter your name = Swaroop\n",
            "Press 's' to stop the game at any time\n",
            "\n",
            "Jumbled letters:NORIUIANSETQE \n",
            "Part of Speech:NOUN \n",
            "Meaning:A LIST OF QUESTIONS SURVEY\n",
            "Guess your word = questionnaire\n",
            "Correct\n",
            "\n",
            "Jumbled letters:SNCNCISOUOU \n",
            "Part of Speech:ADJECTIVE \n",
            "Meaning:NOT CONSCIOUS OR WITHOUT AWARENESS\n",
            "Guess your word = unconscious\n",
            "Correct\n",
            "\n",
            "Jumbled letters:UOCSECPIRO \n",
            "Part of Speech:ADJECTIVE \n",
            "Meaning:UNUSUALLY MATURE, ESPECIALLY IN MENTAL DEVELOPMENT\n",
            "Guess your word = precocious\n",
            "Correct\n",
            "\n",
            "Jumbled letters:LNSIOIA \n",
            "Part of Speech:NOUN \n",
            "Meaning:A PERSON WHO MAINTAINS A CONNECTION BETWEEN PEOPLE OR GROUPS\n",
            "Guess your word = liaison\n",
            "Correct\n",
            "\n",
            "Jumbled letters:RNESCLIVUELA \n",
            "Part of Speech:NOUN \n",
            "Meaning:CONTINUOUS OBSERVATION OF A PERSON, PLACE, OR ACTIVITY IN ORDER TO GATHER INFORMATION\n",
            "Guess your word = surveillance\n",
            "Correct\n",
            "\n",
            "Jumbled letters:ANEAAFCMESL \n",
            "Part of Speech:NOUN \n",
            "Meaning:CONDUCT BY A PUBLIC OFFICIAL THAT VIOLATES THE PUBLIC TRUST OR IS AGAINST THE LAW\n",
            "Guess your word = malfeasance\n",
            "Correct\n",
            "\n",
            "Jumbled letters:ERILSBCIA \n",
            "Part of Speech:ADJECTIVE \n",
            "Meaning:IRRITABLE, QUICK-TEMPERED\n",
            "Guess your word = s\n",
            "You took26.93 seconds to guess6 words correctly\n",
            "\n",
            "LEADERBAORD\n",
            "--------------------------------------------------\n",
            "Name:Pragna\n",
            "Guess Count:9\n",
            "Time Taken:72.80438613891602\n",
            "\n",
            "Name:Karthik\n",
            "Guess Count:6\n",
            "Time Taken:32.79878115653992\n",
            "\n",
            "Name:Swaroop\n",
            "Guess Count:6\n",
            "Time Taken:26.926624536514282\n",
            "\n"
          ],
          "name": "stdout"
        }
      ]
    },
    {
      "cell_type": "markdown",
      "metadata": {
        "id": "RETr5Tv1JBls"
      },
      "source": [
        "---"
      ]
    },
    {
      "cell_type": "markdown",
      "metadata": {
        "id": "fvV-m2VSKTlb"
      },
      "source": [
        "### Submitting the Project\n",
        "\n",
        "Follow the steps described below to submit the project.\n",
        "\n",
        "1. After finishing the project, click on the **Share** button on the top right corner of the notebook. A new dialog box will appear.\n",
        "\n",
        "  <img src='https://student-datasets-bucket.s3.ap-south-1.amazonaws.com/images/project-share-images/2_share_button.png' width=500>\n",
        "\n",
        "2. In the dialog box, click on the **Copy link** button.\n",
        "\n",
        "   <img src='https://student-datasets-bucket.s3.ap-south-1.amazonaws.com/images/project-share-images/3_copy_link.png' width=500>\n",
        "\n",
        "\n",
        "3. The link of the duplicate copy (named as **YYYY-MM-DD_StudentName_CapstoneProject10**) of the notebook will get copied \n",
        "\n",
        "   <img src='https://student-datasets-bucket.s3.ap-south-1.amazonaws.com/images/project-share-images/4_copy_link_confirmation.png' width=500>\n",
        "\n",
        "4. Go to your dashboard and click on the **My Projects** option.\n",
        "\n",
        "   <img src='https://student-datasets-bucket.s3.ap-south-1.amazonaws.com/images/project-share-images/5_student_dashboard.png' width=800>\n",
        "\n",
        "   <img src='https://student-datasets-bucket.s3.ap-south-1.amazonaws.com/images/project-share-images/6_my_projects.png' width=800>\n",
        "\n",
        "5. Click on the **View Project** button for the project you want to submit.\n",
        "\n",
        "   <img src='https://student-datasets-bucket.s3.ap-south-1.amazonaws.com/images/project-share-images/7_view_project.png' width=800>\n",
        "\n",
        "6. Click on the **Submit Project Here** button.\n",
        "\n",
        "   <img src='https://student-datasets-bucket.s3.ap-south-1.amazonaws.com/images/project-share-images/8_submit_project.png' width=800>\n",
        "\n",
        "7. Paste the link to the project file named as **YYYY-MM-DD_StudentName_CapstoneProject10** in the URL box and then click on the **Submit** button.\n",
        "\n",
        "   <img src='https://student-datasets-bucket.s3.ap-south-1.amazonaws.com/images/project-share-images/9_enter_project_url.png' width=800>\n"
      ]
    },
    {
      "cell_type": "markdown",
      "metadata": {
        "id": "YNUxZwngKS8y"
      },
      "source": [
        "---"
      ]
    }
  ]
}