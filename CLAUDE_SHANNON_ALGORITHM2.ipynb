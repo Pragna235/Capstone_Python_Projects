{
  "nbformat": 4,
  "nbformat_minor": 0,
  "metadata": {
    "colab": {
      "provenance": [],
      "collapsed_sections": [],
      "include_colab_link": true
    },
    "kernelspec": {
      "name": "python3",
      "display_name": "Python 3"
    }
  },
  "cells": [
    {
      "cell_type": "markdown",
      "metadata": {
        "id": "view-in-github",
        "colab_type": "text"
      },
      "source": [
        "<a href=\"https://colab.research.google.com/github/Pragna235/Capstone_Python_Projects/blob/main/CLAUDE_SHANNON_ALGORITHM2.ipynb\" target=\"_parent\"><img src=\"https://colab.research.google.com/assets/colab-badge.svg\" alt=\"Open In Colab\"/></a>"
      ]
    },
    {
      "cell_type": "markdown",
      "metadata": {
        "id": "hFdELveo_ewp"
      },
      "source": []
    },
    {
      "cell_type": "markdown",
      "metadata": {
        "id": "YZnBY81YDCCr"
      },
      "source": [
        "### Instructions"
      ]
    },
    {
      "cell_type": "markdown",
      "metadata": {
        "id": "bEyBzxYRhrLG"
      },
      "source": [
        "#### Goal of the Project\n",
        "\n",
        "This project is designed for you to practice and solve the activities that are based on the concepts covered in the following lessons:\n",
        "\n",
        "1. While Loop, Data-Type Conversion and Conditional Statements.\n",
        "\n",
        "2. Improving the Algorithm (Functions).\n"
      ]
    },
    {
      "cell_type": "markdown",
      "metadata": {
        "id": "DPOFIO3EHncO"
      },
      "source": [
        "---"
      ]
    },
    {
      "cell_type": "markdown",
      "metadata": {
        "id": "krym8CeMhscq"
      },
      "source": [
        "#### Getting Started:\n",
        "\n",
        "1. Click on this link to open the Colab file for this project.\n",
        "\n",
        "    https://colab.research.google.com/drive/1DK8Qt6JgfSCmIHdYtOxkDhUWOQn1cn9A?usp=sharing\n",
        "\n",
        "2. Create a duplicate copy of the Colab file as described below.\n",
        "\n",
        "  - Click on the **File menu**. A new drop-down list will appear.\n",
        "\n",
        "   <img src='https://student-datasets-bucket.s3.ap-south-1.amazonaws.com/images/lesson-0/0_file_menu.png' width=500>\n",
        "\n",
        "  - Click on the **Save a copy in Drive** option. A duplicate copy will get created. It will open up in the new tab on your web browser.\n",
        "\n",
        "  <img src='https://student-datasets-bucket.s3.ap-south-1.amazonaws.com/images/lesson-0/1_create_colab_duplicate_copy.png' width=500>\n",
        "\n",
        "3. After creating the duplicate copy of the notebook, please rename it in the **YYYY-MM-DD_StudentName_Project12** format.\n",
        "\n",
        "4. Now, write your code in the prescribed code cells.\n"
      ]
    },
    {
      "cell_type": "markdown",
      "metadata": {
        "id": "BBqkpH4_Doqe"
      },
      "source": [
        "---"
      ]
    },
    {
      "cell_type": "markdown",
      "metadata": {
        "id": "QGbG1ImtAroz"
      },
      "source": [
        "### Activities\n",
        "\n",
        "\n",
        "\n"
      ]
    },
    {
      "cell_type": "markdown",
      "metadata": {
        "id": "q4fH06mIjuK3"
      },
      "source": [
        "#### Activity 1: Find Prime Numbers from 2 to 50\n",
        "\n",
        "Write a program that uses a `nested while` loop to find the prime numbers from 2 to 50.\n",
        "\n",
        "A number that is divisible only by itself is known as a **prime number**.\n",
        "\n",
        "Follow the steps given below to achieve the desired result:\n",
        "\n",
        "- **Step 1**: Store the starting prime number i.e. `2` in a variable `num`.\n",
        "\n",
        "- **Step 2**: Define the condition for `while` loop. This loop must be executed till `50`.\n",
        "\n",
        "- **Step 3**: Inside this `while` loop, perform the following steps: \n",
        "\n",
        "  1. Initialize a variable `j = 2`.\n",
        "\n",
        "  2. Create another `while` loop as a nested loop with condition `j <= num`. Inside this while loop, check whether the number stored in variable `num` is divisible by `j` or not.\n",
        "\n",
        "  3. If the number is divisible by `j` then break the inner `while` loop using `break` statement, otherwise increment the value of `j` by `1`.\n",
        "\n",
        "  4. Inside the outer `while` loop, check whether the value of `j` is greater than `num/j` using an `if` condition. If the condition gets satisfied, then print that prime number in output.\n",
        "\n",
        "  5. Also increment the value of `num` inside the outer `while` loop to check other numbers which are in range of 2 to 50, whether they are prime or not.\n",
        "\n",
        "\n",
        "\n"
      ]
    },
    {
      "cell_type": "code",
      "metadata": {
        "id": "4EAoTskqg041",
        "colab": {
          "base_uri": "https://localhost:8080/"
        },
        "outputId": "6b485375-392e-4747-82ad-be430a62a9e4"
      },
      "source": [
        "# Write a program to find prime numbers from 2 to 50.\n",
        "num=2\n",
        "while num<=50:\n",
        "  j=2\n",
        "  while j<=num:\n",
        "    if num%j==0:\n",
        "      break\n",
        "    else:\n",
        "      j=j+1\n",
        "  if j>num/j:\n",
        "    print(num)\n",
        "  num=num+1"
      ],
      "execution_count": null,
      "outputs": [
        {
          "output_type": "stream",
          "text": [
            "2\n",
            "3\n",
            "5\n",
            "7\n",
            "11\n",
            "13\n",
            "17\n",
            "19\n",
            "23\n",
            "29\n",
            "31\n",
            "37\n",
            "41\n",
            "43\n",
            "47\n"
          ],
          "name": "stdout"
        }
      ]
    },
    {
      "cell_type": "markdown",
      "metadata": {
        "id": "xJlPs9X9oeRw"
      },
      "source": [
        "---"
      ]
    },
    {
      "cell_type": "markdown",
      "metadata": {
        "id": "qA-b1CdeofKc"
      },
      "source": [
        "#### Activity 2: Print `n` Digit Number\n",
        "\n",
        "Write a function which takes a natural number $n$ (where $1\\leq n \\leq 9$) as an input and returns an $n$-digit number having the digit $n$ at all the places as an output.\n",
        "\n",
        "**For example:** \n",
        "\n",
        "- For $n = 1$, the required output is $1$\n",
        "\n",
        "- For $n = 2$, the required output is $22$\n",
        "\n",
        "- For $n = 3$, the required output is $333$\n",
        "\n",
        "- For $n = 4$, the required output is $4,444$\n",
        "\n",
        "  $\\dots$\n",
        "\n",
        "- For $n = 9$, the required sum is $999,999,999$\n",
        "\n",
        "After creating the function, print the required outputs for all the numbers from 1 to 9. \n",
        "\n",
        "Follow the steps given below to achieve the desired result:\n",
        "\n",
        "- **Step 1**: Create a function, let's say `num_generator()` and pass `n` as a parameter in this function, where `n` is the number of digits to be printed. \n",
        "\n",
        "  - **Step 2**: Initialize two variables `req_num = 0` and  `count = n - 1`.\n",
        "   This `count` variable will be used to iterate using a `while` loop to generate the required number.\n",
        "\n",
        "  - **Step 3**: Define a `while` loop with condition `count >= 0`. Inside the `while` loop, perform the following two tasks:\n",
        "   \n",
        "    1. Apply the formula `req_num = req_num + (10 ** count) * n` that will give the required `n` digit number. \n",
        "\n",
        "    2. Decrement the value of `count` by `1`.\n",
        "\n",
        "  - **Step 4**: Return the value stored in `req_num` as it is the desired result.\n",
        "\n",
        "  -  **Step 5**: Call the function `num_generator()` inside a `for` loop that ranges from `1` to `9`."
      ]
    },
    {
      "cell_type": "code",
      "metadata": {
        "id": "AtvPTG3kpBoS",
        "colab": {
          "base_uri": "https://localhost:8080/"
        },
        "outputId": "3d95665c-afa8-498e-954d-9fb12109b285"
      },
      "source": [
        "# Print n -digit number \n",
        "def num_generator(n):\n",
        "  req_num=0\n",
        "  count=n-1\n",
        "  while count>=0:\n",
        "    req_num=req_num+(10**count)*n\n",
        "    count=count-1\n",
        "  return req_num\n",
        "for i in range(1,10):\n",
        "  print(num_generator(i))"
      ],
      "execution_count": null,
      "outputs": [
        {
          "output_type": "stream",
          "text": [
            "1\n",
            "22\n",
            "333\n",
            "4444\n",
            "55555\n",
            "666666\n",
            "7777777\n",
            "88888888\n",
            "999999999\n"
          ],
          "name": "stdout"
        }
      ]
    },
    {
      "cell_type": "markdown",
      "metadata": {
        "id": "KOVBiUSMzut1"
      },
      "source": [
        "---"
      ]
    },
    {
      "cell_type": "markdown",
      "metadata": {
        "id": "BNlGj8NNJ1Y0"
      },
      "source": [
        "### Submitting the Project:\n",
        "\n",
        "1. After finishing the project, click on the **Share** button on the top right corner of the notebook. A new dialog box will appear.\n",
        "\n",
        "  <img src='https://student-datasets-bucket.s3.ap-south-1.amazonaws.com/images/project-share-images/2_share_button.png' width=500>\n",
        "\n",
        "2. In the dialog box, make sure that '**Anyone on the Internet with this link can view**' option is selected and then click on the **Copy link** button.\n",
        "\n",
        "   <img src='https://student-datasets-bucket.s3.ap-south-1.amazonaws.com/images/project-share-images/3_copy_link.png' width=500>\n",
        "\n",
        "3. The link of the duplicate copy (named as **YYYY-MM-DD_StudentName_Project12**) of the notebook will get copied \n",
        "\n",
        "   <img src='https://student-datasets-bucket.s3.ap-south-1.amazonaws.com/images/project-share-images/4_copy_link_confirmation.png' width=500>\n",
        "\n",
        "4. Go to your dashboard and click on the **My Projects** option.\n",
        "   \n",
        "   <img src='https://student-datasets-bucket.s3.ap-south-1.amazonaws.com/images/project-share-images/5_student_dashboard.png' width=800>\n",
        "\n",
        "  <img src='https://student-datasets-bucket.s3.ap-south-1.amazonaws.com/images/project-share-images/6_my_projects.png' width=800>\n",
        "\n",
        "5. Click on the **View Project** button for the project you want to submit.\n",
        "\n",
        "   <img src='https://student-datasets-bucket.s3.ap-south-1.amazonaws.com/images/project-share-images/7_view_project.png' width=800>\n",
        "\n",
        "6. Click on the **Submit Project Here** button.\n",
        "\n",
        "   <img src='https://student-datasets-bucket.s3.ap-south-1.amazonaws.com/images/project-share-images/8_submit_project.png' width=800>\n",
        "\n",
        "7. Paste the link to the project file named as **YYYY-MM-DD_StudentName_Project12** in the URL box and then click on the **Submit** button.\n",
        "\n",
        "   <img src='https://student-datasets-bucket.s3.ap-south-1.amazonaws.com/images/project-share-images/9_enter_project_url.png' width=800> "
      ]
    },
    {
      "cell_type": "markdown",
      "metadata": {
        "id": "HSz7jRSlGxIO"
      },
      "source": [
        "---"
      ]
    }
  ]
}